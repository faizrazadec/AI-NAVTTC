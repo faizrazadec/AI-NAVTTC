{
 "cells": [
  {
   "cell_type": "markdown",
   "id": "225fb7be",
   "metadata": {},
   "source": [
    "# task 1"
   ]
  },
  {
   "cell_type": "code",
   "execution_count": 3,
   "id": "1d7dbcd4",
   "metadata": {},
   "outputs": [
    {
     "name": "stdout",
     "output_type": "stream",
     "text": [
      "Enter Total Marks: 100\n",
      "Enter Obtained Marks: 23\n",
      "fail\n"
     ]
    }
   ],
   "source": [
    "total_marks = int(input(\"Enter Total Marks: \"))\n",
    "obtained_marks = int(input(\"Enter Obtained Marks: \"))\n",
    "\n",
    "merit = 33\n",
    "find_merit = (obtained_marks/total_marks)*100\n",
    "\n",
    "if find_merit >= merit:\n",
    "    print(\"Pass\")\n",
    "else:\n",
    "    print(\"fail\")"
   ]
  },
  {
   "cell_type": "markdown",
   "id": "11da4eff",
   "metadata": {},
   "source": [
    "## task 2"
   ]
  },
  {
   "cell_type": "code",
   "execution_count": 5,
   "id": "b10909da",
   "metadata": {},
   "outputs": [
    {
     "name": "stdout",
     "output_type": "stream",
     "text": [
      "Enter marks: 80\n",
      "A\n"
     ]
    }
   ],
   "source": [
    "Obtained_marks = int(input(\"Enter marks: \"))\n",
    "\n",
    "if Obtained_marks == 80:\n",
    "    print(\"A\")\n",
    "elif Obtained_marks == 70:\n",
    "    print(\"B\")\n",
    "elif Obtained_marks == 60:\n",
    "    print(\"C\")\n",
    "elif Obtained_marks == 50:\n",
    "    print(\"D\")\n",
    "else:\n",
    "    print(\"F\")"
   ]
  },
  {
   "cell_type": "markdown",
   "id": "476a59c7",
   "metadata": {},
   "source": [
    "### task 3"
   ]
  },
  {
   "cell_type": "code",
   "execution_count": 7,
   "id": "2e1073a8",
   "metadata": {},
   "outputs": [
    {
     "name": "stdout",
     "output_type": "stream",
     "text": [
      "Enter grade: f\n",
      "Failed\n"
     ]
    }
   ],
   "source": [
    "grade = input(\"Enter grade: \")\n",
    "if grade == 'F' or grade == 'f':\n",
    "    print(\"Failed\")"
   ]
  },
  {
   "cell_type": "markdown",
   "id": "a2649d9a",
   "metadata": {},
   "source": [
    "# task4"
   ]
  },
  {
   "cell_type": "code",
   "execution_count": 11,
   "id": "73e9c179",
   "metadata": {},
   "outputs": [
    {
     "name": "stdout",
     "output_type": "stream",
     "text": [
      "Enter Total Marks: 100\n",
      "Enter Obtained Marks: 101\n",
      "Error\n"
     ]
    }
   ],
   "source": [
    "total_marks = int(input(\"Enter Total Marks: \"))\n",
    "obtained_marks = int(input(\"Enter Obtained Marks: \"))\n",
    "\n",
    "merit = 33\n",
    "find_merit = (obtained_marks/total_marks)*100\n",
    "\n",
    "if obtained_marks > total_marks:\n",
    "    print(\"Error\")\n",
    "elif find_merit >= merit:\n",
    "    print(\"Pass\")\n",
    "else:\n",
    "    print(\"fail\")"
   ]
  },
  {
   "cell_type": "code",
   "execution_count": 13,
   "id": "9af38342",
   "metadata": {},
   "outputs": [
    {
     "name": "stdout",
     "output_type": "stream",
     "text": [
      "Enter math marks: 10\n",
      "Enter english marks: 23\n",
      "Enter urdu marks: 23\n",
      "Enter sst marks: 43\n"
     ]
    },
    {
     "data": {
      "text/plain": [
       "109.0"
      ]
     },
     "execution_count": 13,
     "metadata": {},
     "output_type": "execute_result"
    }
   ],
   "source": [
    "math_marks = int(input(\"Enter math marks: \"))\n",
    "english_marks = int(input(\"Enter english marks: \"))\n",
    "urdu_marks = int(input(\"Enter urdu marks: \"))\n",
    "sst_marks = int(input(\"Enter sst marks: \"))\n",
    "\n",
    "total_marks = float(math_marks+english_marks+sst_marks+math_marks+urdu_marks)\n",
    "total_marks"
   ]
  },
  {
   "cell_type": "code",
   "execution_count": null,
   "id": "dad5cbde",
   "metadata": {},
   "outputs": [],
   "source": []
  }
 ],
 "metadata": {
  "kernelspec": {
   "display_name": "Python 3 (ipykernel)",
   "language": "python",
   "name": "python3"
  },
  "language_info": {
   "codemirror_mode": {
    "name": "ipython",
    "version": 3
   },
   "file_extension": ".py",
   "mimetype": "text/x-python",
   "name": "python",
   "nbconvert_exporter": "python",
   "pygments_lexer": "ipython3",
   "version": "3.10.9"
  }
 },
 "nbformat": 4,
 "nbformat_minor": 5
}
