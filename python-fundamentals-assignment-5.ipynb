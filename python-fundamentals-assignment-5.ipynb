{
 "cells": [
  {
   "cell_type": "markdown",
   "id": "0fcfdf78",
   "metadata": {},
   "source": [
    "# task-1"
   ]
  },
  {
   "cell_type": "code",
   "execution_count": 4,
   "id": "2f1a5d3a",
   "metadata": {},
   "outputs": [
    {
     "data": {
      "text/plain": [
       "['hobby',\n",
       " 'hobby',\n",
       " 'hobby',\n",
       " 'hobby',\n",
       " 'hobby',\n",
       " 'hobby',\n",
       " 'hobby',\n",
       " 'hobby',\n",
       " 'hobby',\n",
       " 'hobby']"
      ]
     },
     "execution_count": 4,
     "metadata": {},
     "output_type": "execute_result"
    }
   ],
   "source": [
    "mylist = ['hobby', 'hobby', 'hobby', 'hobby', 'hobby', 'hobby', 'hobby', 'hobby', 'hobby', 'hobby']\n",
    "mylist"
   ]
  },
  {
   "cell_type": "markdown",
   "id": "0cfb617f",
   "metadata": {},
   "source": [
    "## task-2"
   ]
  },
  {
   "cell_type": "code",
   "execution_count": 16,
   "id": "f948563a",
   "metadata": {},
   "outputs": [
    {
     "data": {
      "text/plain": [
       "[[95, 92, 87, 93, 88], [85, 90, 92, 88, 91]]"
      ]
     },
     "execution_count": 16,
     "metadata": {},
     "output_type": "execute_result"
    }
   ],
   "source": [
    "matriculation_marks = [95, 92, 87, 93, 88]\n",
    "intermediate_marks = [85, 90, 92, 88, 91]\n",
    "\n",
    "marks = [matriculation_marks, intermediate_marks]\n",
    "marks"
   ]
  },
  {
   "cell_type": "markdown",
   "id": "a477fb14",
   "metadata": {},
   "source": [
    "### task-3"
   ]
  },
  {
   "cell_type": "code",
   "execution_count": 14,
   "id": "a9be45c3",
   "metadata": {},
   "outputs": [
    {
     "data": {
      "text/plain": [
       "'hobby3'"
      ]
     },
     "execution_count": 14,
     "metadata": {},
     "output_type": "execute_result"
    }
   ],
   "source": [
    "mylist = ['hobby0', 'hobby1', 'hobby2', 'hobby3', 'hobby4', 'hobby5', 'hobby6', 'hobby7', 'hobby8', 'hobby9']\n",
    "mylist[3]"
   ]
  },
  {
   "cell_type": "markdown",
   "id": "306b7043",
   "metadata": {},
   "source": [
    "# task-4"
   ]
  },
  {
   "cell_type": "code",
   "execution_count": 22,
   "id": "a3ff8102",
   "metadata": {},
   "outputs": [
    {
     "name": "stdout",
     "output_type": "stream",
     "text": [
      "Intermediate marks:\n",
      "Subject 1 : 85\n",
      "Subject 2 : 90\n",
      "Subject 3 : 92\n",
      "Subject 4 : 88\n",
      "Subject 5 : 91\n",
      "\n",
      "Highest marks in your educational career: 95\n",
      "Lowest marks in your educational career: 85\n"
     ]
    }
   ],
   "source": [
    "matriculation_marks = [95, 92, 87, 93, 88]\n",
    "intermediate_marks = [85, 90, 92, 88, 91]\n",
    "\n",
    "marks = [matriculation_marks, intermediate_marks]\n",
    "\n",
    "\n",
    "print(\"Intermediate marks:\")\n",
    "for index, mark in enumerate(marks[1]):\n",
    "    print(\"Subject\", index+1, \":\", mark)\n",
    "\n",
    "\n",
    "all_marks = matriculation_marks + intermediate_marks\n",
    "highest_marks = max(all_marks)\n",
    "print(\"\\nHighest marks in your educational career:\", highest_marks)\n",
    "\n",
    "\n",
    "lowest_marks = min(all_marks)\n",
    "print(\"Lowest marks in your educational career:\", lowest_marks)\n"
   ]
  },
  {
   "cell_type": "markdown",
   "id": "3deda1b0",
   "metadata": {},
   "source": [
    "## task-5"
   ]
  },
  {
   "cell_type": "code",
   "execution_count": 31,
   "id": "1ad25194",
   "metadata": {},
   "outputs": [
    {
     "name": "stdout",
     "output_type": "stream",
     "text": [
      "Even numbers: [2, 4, 6, 8, 0]\n",
      "Odd numbers: [1, 3, 5, 7, 9]\n",
      "Prime numbers: [2, 3, 5, 7]\n"
     ]
    }
   ],
   "source": [
    "def is_prime(num):\n",
    "    if num < 2:\n",
    "        return False\n",
    "    for i in range(2, int(num ** 0.5) + 1):\n",
    "        if num % i == 0:\n",
    "            return False\n",
    "    return True\n",
    "\n",
    "my_list = [1, 2, 3, 4, 5, 6, 7, 8, 9, 0]\n",
    "even_numbers = []\n",
    "odd_numbers = []\n",
    "prime_numbers = []\n",
    "\n",
    "for num in my_list:\n",
    "    if num % 2 == 0:\n",
    "        even_numbers.append(num)\n",
    "    else:\n",
    "        odd_numbers.append(num)\n",
    "\n",
    "    if is_prime(num):\n",
    "        prime_numbers.append(num)\n",
    "\n",
    "print(\"Even numbers:\", even_numbers)\n",
    "print(\"Odd numbers:\", odd_numbers)\n",
    "print(\"Prime numbers:\", prime_numbers)\n"
   ]
  },
  {
   "cell_type": "markdown",
   "id": "3897997e",
   "metadata": {},
   "source": [
    "### task-6"
   ]
  },
  {
   "cell_type": "code",
   "execution_count": 32,
   "id": "49c51c79",
   "metadata": {},
   "outputs": [
    {
     "data": {
      "text/plain": [
       "{'older_sister': 'Emma',\n",
       " 'older_brother': 'Jacob',\n",
       " 'younger_sister': 'Olivia',\n",
       " 'younger_brother': 'Noah'}"
      ]
     },
     "execution_count": 32,
     "metadata": {},
     "output_type": "execute_result"
    }
   ],
   "source": [
    "siblings = {\n",
    "    \"older_sister\": \"Emma\",\n",
    "    \"older_brother\": \"Jacob\",\n",
    "    \"younger_sister\": \"Olivia\",\n",
    "    \"younger_brother\": \"Noah\"\n",
    "}\n",
    "siblings"
   ]
  },
  {
   "cell_type": "markdown",
   "id": "fdb58519",
   "metadata": {},
   "source": [
    "# task-7"
   ]
  },
  {
   "cell_type": "code",
   "execution_count": 41,
   "id": "55416c28",
   "metadata": {},
   "outputs": [
    {
     "name": "stdout",
     "output_type": "stream",
     "text": [
      "wickets taken by jamal: \n"
     ]
    },
    {
     "ename": "TypeError",
     "evalue": "'builtin_function_or_method' object is not iterable",
     "output_type": "error",
     "traceback": [
      "\u001b[1;31m---------------------------------------------------------------------------\u001b[0m",
      "\u001b[1;31mTypeError\u001b[0m                                 Traceback (most recent call last)",
      "Cell \u001b[1;32mIn[41], line 18\u001b[0m\n\u001b[0;32m      1\u001b[0m scoreboard \u001b[38;5;241m=\u001b[39m {\n\u001b[0;32m      2\u001b[0m \u001b[38;5;124m\"\u001b[39m\u001b[38;5;124mjamal\u001b[39m\u001b[38;5;124m\"\u001b[39m: {\n\u001b[0;32m      3\u001b[0m \u001b[38;5;241m1\u001b[39m: {\u001b[38;5;241m0\u001b[39m, \u001b[38;5;124m\"\u001b[39m\u001b[38;5;124mWD\u001b[39m\u001b[38;5;124m\"\u001b[39m, \u001b[38;5;124m\"\u001b[39m\u001b[38;5;124mNo\u001b[39m\u001b[38;5;124m\"\u001b[39m, \u001b[38;5;124m\"\u001b[39m\u001b[38;5;124mfree hit+6\u001b[39m\u001b[38;5;124m\"\u001b[39m, \u001b[38;5;124m\"\u001b[39m\u001b[38;5;124mcatch\u001b[39m\u001b[38;5;124m\"\u001b[39m, \u001b[38;5;241m4\u001b[39m, \u001b[38;5;124m\"\u001b[39m\u001b[38;5;124mbowled\u001b[39m\u001b[38;5;124m\"\u001b[39m, \u001b[38;5;241m6\u001b[39m, \u001b[38;5;241m0\u001b[39m},\n\u001b[1;32m   (...)\u001b[0m\n\u001b[0;32m     14\u001b[0m }\n\u001b[0;32m     15\u001b[0m }\n\u001b[0;32m     17\u001b[0m \u001b[38;5;28mprint\u001b[39m(\u001b[38;5;124m'\u001b[39m\u001b[38;5;124mwickets taken by jamal: \u001b[39m\u001b[38;5;124m'\u001b[39m)\n\u001b[1;32m---> 18\u001b[0m j_w \u001b[38;5;241m=\u001b[39m \u001b[38;5;28msum\u001b[39m(\u001b[38;5;241m1\u001b[39m \u001b[38;5;28;01mfor\u001b[39;00m wickets \u001b[38;5;129;01min\u001b[39;00m scoreboard[\u001b[38;5;124m\"\u001b[39m\u001b[38;5;124mjamal\u001b[39m\u001b[38;5;124m\"\u001b[39m]\u001b[38;5;241m.\u001b[39mvalues \u001b[38;5;28;01mif\u001b[39;00m \u001b[38;5;124m\"\u001b[39m\u001b[38;5;124mwicket\u001b[39m\u001b[38;5;124m\"\u001b[39m \u001b[38;5;129;01min\u001b[39;00m wickets)\n\u001b[0;32m     19\u001b[0m j_w\n",
      "\u001b[1;31mTypeError\u001b[0m: 'builtin_function_or_method' object is not iterable"
     ]
    }
   ],
   "source": [
    "scoreboard = {\n",
    "\"jamal\": {\n",
    "1: {0, \"WD\", \"No\", \"free hit+6\", \"catch\", 4, \"bowled\", 6, 0},\n",
    "2: {4,4,4,\"wicket\",\"wicket\",\"wicket\"},\n",
    "3: {0,0,0,0,1,0},\n",
    "4:{\"out\",\"NO+FREEHIT\",0,0,6,6,\"catch\"}\n",
    "},\n",
    "\"hamza\": {\n",
    "1: {0, \"WD\", \"No\", \"free hit+6\", 0, 4, \"bowled\", 6, 0},\n",
    "2: {4,4,4,\"wicket\",\"wicket\",\"wicket\"},\n",
    "3: {0,0,0,0,1,0},\n",
    "4:{\"out\",\"NO+FREEHIT\",0,\"catch\",6,6,\"out\"}\n",
    "\n",
    "}\n",
    "}\n",
    "\n",
    "print('wickets taken by jamal: ')\n",
    "j_w = sum(1 for wickets in scoreboard[\"jamal\"].values if \"wicket\" in wickets)\n",
    "j_w"
   ]
  },
  {
   "cell_type": "code",
   "execution_count": 42,
   "id": "b59f0590",
   "metadata": {},
   "outputs": [
    {
     "name": "stdout",
     "output_type": "stream",
     "text": [
      "Wickets taken by Jamal: 1\n"
     ]
    }
   ],
   "source": [
    "jamal_wickets = sum(1 for over in scoreboard[\"jamal\"].values() if \"wicket\" in over)\n",
    "print(\"Wickets taken by Jamal:\", jamal_wickets)"
   ]
  },
  {
   "cell_type": "code",
   "execution_count": 43,
   "id": "c740d9b9",
   "metadata": {},
   "outputs": [
    {
     "name": "stdout",
     "output_type": "stream",
     "text": [
      "Wickets taken by Jamal: 1\n",
      "Wickets taken by Hamza: 1\n",
      "Total wickets taken in the match: 2\n",
      "Total 'WD' count: 0\n",
      "Total 'NO' count: 0\n",
      "Total score of the match: 8\n",
      "Score given by Jamal: 21\n",
      "Score given by Hamza: 21\n",
      "Score given in the 2nd over of Jamal: 4\n",
      "Score given in the 2nd over of Hamza: 4\n"
     ]
    }
   ],
   "source": [
    "scoreboard = {\n",
    "    \"jamal\": {\n",
    "        1: {0, \"WD\", \"No\", \"free hit+6\", \"catch\", 4, \"bowled\", 6, 0},\n",
    "        2: {4, 4, 4, \"wicket\", \"wicket\", \"wicket\"},\n",
    "        3: {0, 0, 0, 0, 1, 0},\n",
    "        4: {\"out\", \"NO+FREEHIT\", 0, 0, 6, 6, \"catch\"}\n",
    "    },\n",
    "    \"hamza\": {\n",
    "        1: {0, \"WD\", \"No\", \"free hit+6\", 0, 4, \"bowled\", 6, 0},\n",
    "        2: {4, 4, 4, \"wicket\", \"wicket\", \"wicket\"},\n",
    "        3: {0, 0, 0, 0, 1, 0},\n",
    "        4: {\"out\", \"NO+FREEHIT\", 0, \"catch\", 6, 6, \"out\"}\n",
    "    }\n",
    "}\n",
    "\n",
    "# How many wickets taken by Jamal\n",
    "jamal_wickets = sum(1 for over in scoreboard[\"jamal\"].values() if \"wicket\" in over)\n",
    "print(\"Wickets taken by Jamal:\", jamal_wickets)\n",
    "\n",
    "# How many wickets taken by Hamza\n",
    "hamza_wickets = sum(1 for over in scoreboard[\"hamza\"].values() if \"wicket\" in over)\n",
    "print(\"Wickets taken by Hamza:\", hamza_wickets)\n",
    "\n",
    "# Overall total wickets taken in the match\n",
    "total_wickets = jamal_wickets + hamza_wickets\n",
    "print(\"Total wickets taken in the match:\", total_wickets)\n",
    "\n",
    "# Overall \"WD\" and \"NO\" and total score of the match\n",
    "wd_count = sum(1 for over in scoreboard.values() for ball in over.values() if ball == \"WD\")\n",
    "no_count = sum(1 for over in scoreboard.values() for ball in over.values() if ball == \"NO\")\n",
    "total_score = sum(sum(1 for ball in over if isinstance(ball, int)) for over in scoreboard.values())\n",
    "print(\"Total 'WD' count:\", wd_count)\n",
    "print(\"Total 'NO' count:\", no_count)\n",
    "print(\"Total score of the match:\", total_score)\n",
    "\n",
    "# Score given by Jamal\n",
    "jamal_score = sum(sum(ball for ball in over if isinstance(ball, int)) for over in scoreboard[\"jamal\"].values())\n",
    "print(\"Score given by Jamal:\", jamal_score)\n",
    "\n",
    "# Score given by Hamza\n",
    "hamza_score = sum(sum(ball for ball in over if isinstance(ball, int)) for over in scoreboard[\"hamza\"].values())\n",
    "print(\"Score given by Hamza:\", hamza_score)\n",
    "\n",
    "# Score given in the 2nd over of Hamza and Jamal\n",
    "jamal_2nd_over_score = sum(ball for ball in scoreboard[\"jamal\"][2] if isinstance(ball, int))\n",
    "hamza_2nd_over_score = sum(ball for ball in scoreboard[\"hamza\"][2] if isinstance(ball, int))\n",
    "print(\"Score given in the 2nd over of Jamal:\", jamal_2nd_over_score)\n",
    "print(\"Score given in the 2nd over of Hamza:\", hamza_2nd_over_score)\n"
   ]
  },
  {
   "cell_type": "code",
   "execution_count": null,
   "id": "efad4e31",
   "metadata": {},
   "outputs": [],
   "source": []
  }
 ],
 "metadata": {
  "kernelspec": {
   "display_name": "Python 3 (ipykernel)",
   "language": "python",
   "name": "python3"
  },
  "language_info": {
   "codemirror_mode": {
    "name": "ipython",
    "version": 3
   },
   "file_extension": ".py",
   "mimetype": "text/x-python",
   "name": "python",
   "nbconvert_exporter": "python",
   "pygments_lexer": "ipython3",
   "version": "3.10.9"
  }
 },
 "nbformat": 4,
 "nbformat_minor": 5
}
