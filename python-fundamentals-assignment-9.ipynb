{
 "cells": [
  {
   "cell_type": "markdown",
   "id": "18b478bb",
   "metadata": {},
   "source": [
    "# task-1"
   ]
  },
  {
   "cell_type": "code",
   "execution_count": 1,
   "id": "f4caec5f",
   "metadata": {},
   "outputs": [
    {
     "name": "stdout",
     "output_type": "stream",
     "text": [
      "10\n",
      "8\n",
      "6\n"
     ]
    }
   ],
   "source": [
    "str_lists = [\"faiz razaf\", \"ghufrang\", \"usamau\"]\n",
    "def coun(str_lists):\n",
    "    for i in str_lists:\n",
    "         print(len(i))\n",
    "coun(str_lists)"
   ]
  },
  {
   "cell_type": "markdown",
   "id": "bf587535",
   "metadata": {},
   "source": [
    "## task-2"
   ]
  },
  {
   "cell_type": "code",
   "execution_count": 3,
   "id": "a5790a65",
   "metadata": {},
   "outputs": [
    {
     "data": {
      "text/plain": [
       "[(2, 1), (1, 2), (2, 3), (4, 4), (2, 5)]"
      ]
     },
     "execution_count": 3,
     "metadata": {},
     "output_type": "execute_result"
    }
   ],
   "source": [
    "sample_list = [(2, 5), (1, 2), (4, 4), (2, 3), (2, 1)]\n",
    "\n",
    "sorted_list = sorted ( sample_list, key = lambda x : x [-1])\n",
    "sorted_list"
   ]
  },
  {
   "cell_type": "markdown",
   "id": "5cdc48a6",
   "metadata": {},
   "source": [
    "### task-3"
   ]
  },
  {
   "cell_type": "code",
   "execution_count": 19,
   "id": "55a58a7b",
   "metadata": {},
   "outputs": [
    {
     "name": "stdout",
     "output_type": "stream",
     "text": [
      "Result 1: [0, 0.8, 1, 2, 6, 9]\n",
      "Result 2: ['Adeel', 'Ali', 'Jamal', 'Jawad']\n",
      "Result 3: ['Q', 'P', 'Jawad', 'Jamal', 'Hamza', 'C', 'Ali', 'Adeel']\n",
      "Result 4: ['C', 'P', 'Q']\n",
      "Result 5: [5, 0, 30, 10, 4.0, 45, 'Jamal', 'Adeel', 'Hamza', 'Ali', 'Jawad', 'C', 'Q', 'P']\n"
     ]
    }
   ],
   "source": [
    "List = [1,0,6,2,0.8,9,'Jamal','Adeel','Hamza','Ali','Jawad','C','Q','P']\n",
    "\n",
    "result1 = sorted(filter(lambda x: isinstance(x, (int, float)), List))\n",
    "result2 = sorted(filter(lambda x: isinstance(x, str) and x[0] in ['J', 'A'], List))\n",
    "result3 = sorted(filter(lambda x: isinstance(x, str), List), reverse=True)\n",
    "result4 = sorted(filter(lambda x: isinstance(x, str) and len(x) == 1, List))\n",
    "result5 = list(map(lambda x: x * 5 if isinstance(x, (int, float)) else x, List))\n",
    "\n",
    "\n",
    "print(\"Result 1:\", result1)\n",
    "print(\"Result 2:\", result2)\n",
    "print(\"Result 3:\", result3)\n",
    "print(\"Result 4:\", result4)\n",
    "print(\"Result 5:\", result5)\n"
   ]
  },
  {
   "cell_type": "markdown",
   "id": "7413e7fe",
   "metadata": {},
   "source": [
    "# task-4"
   ]
  },
  {
   "cell_type": "code",
   "execution_count": 22,
   "id": "b3df7f2a",
   "metadata": {},
   "outputs": [
    {
     "name": "stdout",
     "output_type": "stream",
     "text": [
      "[W 08:57:12.902 NotebookApp] Loading JupyterLab as a classic notebook (v6) extension.\n",
      "[W 2023-07-11 08:57:12.907 LabApp] 'notebook_dir' has moved from NotebookApp to ServerApp. This config will be passed to ServerApp. Be sure to update your config before our next release.\n",
      "[W 2023-07-11 08:57:12.907 LabApp] 'notebook_dir' has moved from NotebookApp to ServerApp. This config will be passed to ServerApp. Be sure to update your config before our next release.\n",
      "[I 2023-07-11 08:57:12.916 LabApp] JupyterLab extension loaded from C:\\ProgramData\\anaconda3\\lib\\site-packages\\jupyterlab\n",
      "[I 2023-07-11 08:57:12.916 LabApp] JupyterLab application directory is C:\\ProgramData\\anaconda3\\share\\jupyter\\lab\n",
      "[I 08:57:16.089 NotebookApp] Serving notebooks from local directory: C:\\Users\\faizr\n",
      "[I 08:57:16.089 NotebookApp] Jupyter Notebook 6.5.2 is running at:\n",
      "[I 08:57:16.090 NotebookApp] http://localhost:8888/?token=49c82ecac974c714b7ccb8ff7ffe74d899959a18d23b9665\n",
      "[I 08:57:16.090 NotebookApp]  or http://127.0.0.1:8888/?token=49c82ecac974c714b7ccb8ff7ffe74d899959a18d23b9665\n",
      "[I 08:57:16.090 NotebookApp] Use Control-C to stop this server and shut down all kernels (twice to skip confirmation).\n",
      "[C 08:57:16.177 NotebookApp]\n",
      "\n",
      "Results saved successfully.\n"
     ]
    }
   ],
   "source": [
    "def read():\n",
    "    try:\n",
    "        # Read the content from the file\n",
    "        with open(\"Try.txt\", \"r\") as file:\n",
    "            content = file.read()\n",
    "        print(content)\n",
    "    except FileNotFoundError:\n",
    "        print(\"File does not exist.\")\n",
    "\n",
    "\n",
    "def write():\n",
    "    try:\n",
    "        # Result from the upper question\n",
    "        result1 = [0, 0.8, 1, 2, 6, 9]\n",
    "        result2 = ['Jamal', 'Adeel', 'Hamza', 'Ali', 'Jawad']\n",
    "        result3 = ['Adeel', 'Ali', 'Hamza', 'Jamal', 'Jawad']\n",
    "        result4 = ['C', 'P', 'Q']\n",
    "        result5 = [5, 0, 30, 10, 4.0, 45, 'Jamal', 'Adeel', 'Hamza', 'Ali', 'Jawad', 'C', 'Q', 'P']\n",
    "\n",
    "        # Save the results in separate files\n",
    "        with open(\"Question1.txt\", \"w\") as file:\n",
    "            file.write(str(result1))\n",
    "        with open(\"Question2.txt\", \"w\") as file:\n",
    "            file.write(str(result2))\n",
    "        with open(\"Question3.txt\", \"w\") as file:\n",
    "            file.write(str(result3))\n",
    "        with open(\"Question4.txt\", \"w\") as file:\n",
    "            file.write(str(result4))\n",
    "        with open(\"Question5.txt\", \"w\") as file:\n",
    "            file.write(str(result5))\n",
    "        print(\"Results saved successfully.\")\n",
    "    except Exception as e:\n",
    "        print(f\"Error occurred: {str(e)}\")\n",
    "\n",
    "\n",
    "# Call the functions\n",
    "read()\n",
    "write()\n"
   ]
  },
  {
   "cell_type": "code",
   "execution_count": null,
   "id": "86f8d5a4",
   "metadata": {},
   "outputs": [],
   "source": []
  }
 ],
 "metadata": {
  "kernelspec": {
   "display_name": "Python 3 (ipykernel)",
   "language": "python",
   "name": "python3"
  },
  "language_info": {
   "codemirror_mode": {
    "name": "ipython",
    "version": 3
   },
   "file_extension": ".py",
   "mimetype": "text/x-python",
   "name": "python",
   "nbconvert_exporter": "python",
   "pygments_lexer": "ipython3",
   "version": "3.10.9"
  }
 },
 "nbformat": 4,
 "nbformat_minor": 5
}
