{
 "cells": [
  {
   "cell_type": "markdown",
   "id": "82f9aa95",
   "metadata": {},
   "source": [
    "# task-1"
   ]
  },
  {
   "cell_type": "code",
   "execution_count": 2,
   "id": "52cd6836",
   "metadata": {},
   "outputs": [
    {
     "ename": "SyntaxError",
     "evalue": "incomplete input (2954897583.py, line 4)",
     "output_type": "error",
     "traceback": [
      "\u001b[1;36m  Cell \u001b[1;32mIn[2], line 4\u001b[1;36m\u001b[0m\n\u001b[1;33m    if species == 'cat':\u001b[0m\n\u001b[1;37m                        ^\u001b[0m\n\u001b[1;31mSyntaxError\u001b[0m\u001b[1;31m:\u001b[0m incomplete input\n"
     ]
    }
   ],
   "source": [
    "#Rewrite this line so it's valid:\n",
    "#if species = \"cat\":\n",
    "\n",
    "if species == 'cat':"
   ]
  },
  {
   "cell_type": "markdown",
   "id": "cb93f6ff",
   "metadata": {},
   "source": [
    "## task-2"
   ]
  },
  {
   "cell_type": "code",
   "execution_count": 4,
   "id": "01b315be",
   "metadata": {},
   "outputs": [
    {
     "ename": "SyntaxError",
     "evalue": "incomplete input (410861952.py, line 3)",
     "output_type": "error",
     "traceback": [
      "\u001b[1;36m  Cell \u001b[1;32mIn[4], line 3\u001b[1;36m\u001b[0m\n\u001b[1;33m    if x == y:\u001b[0m\n\u001b[1;37m              ^\u001b[0m\n\u001b[1;31mSyntaxError\u001b[0m\u001b[1;31m:\u001b[0m incomplete input\n"
     ]
    }
   ],
   "source": [
    "#Code the first line of an if statement that tests whether x has the same value as y\n",
    "\n",
    "if x == y:"
   ]
  },
  {
   "cell_type": "markdown",
   "id": "0f1c4aab",
   "metadata": {},
   "source": [
    "### task-3"
   ]
  },
  {
   "cell_type": "code",
   "execution_count": null,
   "id": "20974bca",
   "metadata": {},
   "outputs": [],
   "source": [
    "#On line 1, test whether a has the same value as b. On line 2, write that c equals d. Don't forget to indent the second line.\n",
    "\n",
    "if a == b:\n",
    "    c == d"
   ]
  },
  {
   "cell_type": "markdown",
   "id": "746931bb",
   "metadata": {},
   "source": [
    "# task-4"
   ]
  },
  {
   "cell_type": "code",
   "execution_count": null,
   "id": "58db3e41",
   "metadata": {},
   "outputs": [],
   "source": [
    "#4: If total has the value of 100, then tax has the value of 2. Code both lines. Don't forget to indent the second line.\n",
    "\n",
    "if total == 100:\n",
    "    tax ==2"
   ]
  },
  {
   "cell_type": "markdown",
   "id": "1622e97d",
   "metadata": {},
   "source": [
    "## task-5"
   ]
  },
  {
   "cell_type": "code",
   "execution_count": null,
   "id": "ce1f7468",
   "metadata": {},
   "outputs": [],
   "source": [
    "#If first_name is \"Sherlock\", then last_name is equal to \"Holmes\" and pal is equal to \"Watson\". Code all three lines.\n",
    "\n",
    "if first_name == 'Sherlock':\n",
    "    last_name == 'Holmes'\n",
    "    pal == 'Watson'"
   ]
  },
  {
   "cell_type": "markdown",
   "id": "119d2bec",
   "metadata": {},
   "source": [
    "### task-6"
   ]
  },
  {
   "cell_type": "code",
   "execution_count": 5,
   "id": "983777a1",
   "metadata": {},
   "outputs": [
    {
     "name": "stdout",
     "output_type": "stream",
     "text": [
      "Enter yes or no: yes\n",
      "Congrats\n"
     ]
    }
   ],
   "source": [
    "#Ask user to Enter “yes” or “no”. If user entered \"yes\" tell Python to print \"congrats\", if “no”, tell python to print “better luck next time”.\n",
    "\n",
    "user = input(\"Enter yes or no: \")\n",
    "\n",
    "if user == 'Yes' or user == 'yes':\n",
    "    print('Congrats')\n",
    "    \n",
    "elif user == 'No' or user == 'no':\n",
    "    print('better luck next time')\n",
    "else:\n",
    "    print(\"error\")"
   ]
  },
  {
   "cell_type": "markdown",
   "id": "b60dab33",
   "metadata": {},
   "source": [
    "# task-7"
   ]
  },
  {
   "cell_type": "code",
   "execution_count": null,
   "id": "8e7bb747",
   "metadata": {},
   "outputs": [],
   "source": [
    "#Code the first line of an if statement testing whether the variable total is less than 100.\n",
    "\n",
    "if variable < 100:"
   ]
  },
  {
   "cell_type": "markdown",
   "id": "acff9a4f",
   "metadata": {},
   "source": [
    "## task-8"
   ]
  },
  {
   "cell_type": "code",
   "execution_count": 8,
   "id": "451459a1",
   "metadata": {},
   "outputs": [
    {
     "name": "stdout",
     "output_type": "stream",
     "text": [
      "enter a value in range of 1 -> 1000.  1000\n",
      "greater than 500\n"
     ]
    }
   ],
   "source": [
    "#Write a program:\n",
    "#1. Ask user to enter a value in range of 1 -> 1000.\n",
    "#2. if the value is greater then 500, then write “greater than 500” else write “smaller than 500”.\n",
    "\n",
    "num = int(input(\"enter a value in range of 1 -> 1000.  \"))\n",
    "\n",
    "if num > 500:\n",
    "    print(\"greater than 500\")\n",
    "else:\n",
    "    print(\"smaller than 500\")"
   ]
  },
  {
   "cell_type": "markdown",
   "id": "1f184091",
   "metadata": {},
   "source": [
    "### task-9"
   ]
  },
  {
   "cell_type": "code",
   "execution_count": 14,
   "id": "a0a0ee08",
   "metadata": {},
   "outputs": [
    {
     "name": "stdout",
     "output_type": "stream",
     "text": [
      "enter a value: -7\n",
      "enter b value: -7\n",
      "greater\n"
     ]
    }
   ],
   "source": [
    "#9: Code if statement that tests whether the Difference of a and b (take input from user) is greater\n",
    "#than or equal to c= - 7.\n",
    "\n",
    "a = int(input(\"enter a value: \"))\n",
    "b = int(input(\"enter b value: \"))\n",
    "c = -7\n",
    "\n",
    "if (a-b) > c:\n",
    "    print(\"greater\")\n",
    "else:\n",
    "    print(\"smaller\")"
   ]
  },
  {
   "cell_type": "markdown",
   "id": "687b7a53",
   "metadata": {},
   "source": [
    "# task-10"
   ]
  },
  {
   "cell_type": "code",
   "execution_count": 18,
   "id": "84f67e8b",
   "metadata": {},
   "outputs": [
    {
     "name": "stdout",
     "output_type": "stream",
     "text": [
      "enter variable: \t1\n",
      "99\n"
     ]
    }
   ],
   "source": [
    "#Write an if statement that tests whether a variable is smaller than 99. If the test passes, assign 99\n",
    "#to the variable. Make up the variable name. Remember to indent the second line two spaces.\n",
    "\n",
    "var = int(input(\"enter variable: \\t\"))\n",
    "\n",
    "if var < 99:\n",
    "    var = 99\n",
    "    print(var)"
   ]
  },
  {
   "cell_type": "markdown",
   "id": "fc0b353d",
   "metadata": {},
   "source": [
    "## task-11"
   ]
  },
  {
   "cell_type": "code",
   "execution_count": 22,
   "id": "3044ddbd",
   "metadata": {},
   "outputs": [
    {
     "name": "stdout",
     "output_type": "stream",
     "text": [
      "enter var1: 2\n",
      "enter var2: 1\n",
      "1 \t 1\n"
     ]
    }
   ],
   "source": [
    "#Write an if statement that tests whether a first variable is greater than a second variable. (Take\n",
    "#both values from the user)\n",
    "\n",
    "var1 = int(input(\"enter var1: \"))\n",
    "var2 = int(input(\"enter var2: \"))\n",
    "\n",
    "if var1 > var2:\n",
    "    var1 = var2\n",
    "    print(var1, '\\t', var2)"
   ]
  }
 ],
 "metadata": {
  "kernelspec": {
   "display_name": "Python 3 (ipykernel)",
   "language": "python",
   "name": "python3"
  },
  "language_info": {
   "codemirror_mode": {
    "name": "ipython",
    "version": 3
   },
   "file_extension": ".py",
   "mimetype": "text/x-python",
   "name": "python",
   "nbconvert_exporter": "python",
   "pygments_lexer": "ipython3",
   "version": "3.10.9"
  }
 },
 "nbformat": 4,
 "nbformat_minor": 5
}
