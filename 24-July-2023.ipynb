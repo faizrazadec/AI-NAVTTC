{
 "cells": [
  {
   "cell_type": "code",
   "execution_count": null,
   "id": "1da5545b",
   "metadata": {},
   "outputs": [],
   "source": []
  },
  {
   "cell_type": "code",
   "execution_count": 1,
   "id": "0c6c3dd1",
   "metadata": {},
   "outputs": [
    {
     "name": "stdout",
     "output_type": "stream",
     "text": [
      "Requirement already satisfied: tensorflow in /home/mirza/anaconda3/lib/python3.9/site-packages (2.12.0)\n",
      "Requirement already satisfied: absl-py>=1.0.0 in /home/mirza/anaconda3/lib/python3.9/site-packages (from tensorflow) (1.4.0)\n",
      "Requirement already satisfied: astunparse>=1.6.0 in /home/mirza/anaconda3/lib/python3.9/site-packages (from tensorflow) (1.6.3)\n",
      "Requirement already satisfied: flatbuffers>=2.0 in /home/mirza/anaconda3/lib/python3.9/site-packages (from tensorflow) (23.5.26)\n",
      "Requirement already satisfied: gast<=0.4.0,>=0.2.1 in /home/mirza/anaconda3/lib/python3.9/site-packages (from tensorflow) (0.4.0)\n",
      "Requirement already satisfied: google-pasta>=0.1.1 in /home/mirza/anaconda3/lib/python3.9/site-packages (from tensorflow) (0.2.0)\n",
      "Requirement already satisfied: grpcio<2.0,>=1.24.3 in /home/mirza/anaconda3/lib/python3.9/site-packages (from tensorflow) (1.54.2)\n",
      "Requirement already satisfied: h5py>=2.9.0 in /home/mirza/anaconda3/lib/python3.9/site-packages (from tensorflow) (3.8.0)\n",
      "Requirement already satisfied: jax>=0.3.15 in /home/mirza/anaconda3/lib/python3.9/site-packages (from tensorflow) (0.4.12)\n",
      "Requirement already satisfied: keras<2.13,>=2.12.0 in /home/mirza/anaconda3/lib/python3.9/site-packages (from tensorflow) (2.12.0)\n",
      "Requirement already satisfied: libclang>=13.0.0 in /home/mirza/anaconda3/lib/python3.9/site-packages (from tensorflow) (16.0.0)\n",
      "Requirement already satisfied: numpy<1.24,>=1.22 in /home/mirza/anaconda3/lib/python3.9/site-packages (from tensorflow) (1.23.5)\n",
      "Requirement already satisfied: opt-einsum>=2.3.2 in /home/mirza/anaconda3/lib/python3.9/site-packages (from tensorflow) (3.3.0)\n",
      "Requirement already satisfied: packaging in /home/mirza/anaconda3/lib/python3.9/site-packages (from tensorflow) (23.0)\n",
      "Requirement already satisfied: protobuf!=4.21.0,!=4.21.1,!=4.21.2,!=4.21.3,!=4.21.4,!=4.21.5,<5.0.0dev,>=3.20.3 in /home/mirza/anaconda3/lib/python3.9/site-packages (from tensorflow) (4.23.3)\n",
      "Requirement already satisfied: setuptools in /home/mirza/anaconda3/lib/python3.9/site-packages (from tensorflow) (67.8.0)\n",
      "Requirement already satisfied: six>=1.12.0 in /home/mirza/anaconda3/lib/python3.9/site-packages (from tensorflow) (1.16.0)\n",
      "Requirement already satisfied: tensorboard<2.13,>=2.12 in /home/mirza/anaconda3/lib/python3.9/site-packages (from tensorflow) (2.12.3)\n",
      "Requirement already satisfied: tensorflow-estimator<2.13,>=2.12.0 in /home/mirza/anaconda3/lib/python3.9/site-packages (from tensorflow) (2.12.0)\n",
      "Requirement already satisfied: termcolor>=1.1.0 in /home/mirza/anaconda3/lib/python3.9/site-packages (from tensorflow) (2.3.0)\n",
      "Requirement already satisfied: typing-extensions>=3.6.6 in /home/mirza/anaconda3/lib/python3.9/site-packages (from tensorflow) (4.6.3)\n",
      "Requirement already satisfied: wrapt<1.15,>=1.11.0 in /home/mirza/anaconda3/lib/python3.9/site-packages (from tensorflow) (1.14.1)\n",
      "Requirement already satisfied: tensorflow-io-gcs-filesystem>=0.23.1 in /home/mirza/anaconda3/lib/python3.9/site-packages (from tensorflow) (0.32.0)\n",
      "Requirement already satisfied: wheel<1.0,>=0.23.0 in /home/mirza/anaconda3/lib/python3.9/site-packages (from astunparse>=1.6.0->tensorflow) (0.38.4)\n",
      "Requirement already satisfied: ml-dtypes>=0.1.0 in /home/mirza/anaconda3/lib/python3.9/site-packages (from jax>=0.3.15->tensorflow) (0.2.0)\n",
      "Requirement already satisfied: scipy>=1.7 in /home/mirza/anaconda3/lib/python3.9/site-packages (from jax>=0.3.15->tensorflow) (1.10.1)\n",
      "Requirement already satisfied: importlib-metadata>=4.6 in /home/mirza/anaconda3/lib/python3.9/site-packages (from jax>=0.3.15->tensorflow) (6.6.0)\n",
      "Requirement already satisfied: google-auth<3,>=1.6.3 in /home/mirza/anaconda3/lib/python3.9/site-packages (from tensorboard<2.13,>=2.12->tensorflow) (2.20.0)\n",
      "Requirement already satisfied: google-auth-oauthlib<1.1,>=0.5 in /home/mirza/anaconda3/lib/python3.9/site-packages (from tensorboard<2.13,>=2.12->tensorflow) (1.0.0)\n",
      "Requirement already satisfied: markdown>=2.6.8 in /home/mirza/anaconda3/lib/python3.9/site-packages (from tensorboard<2.13,>=2.12->tensorflow) (3.4.3)\n",
      "Requirement already satisfied: requests<3,>=2.21.0 in /home/mirza/anaconda3/lib/python3.9/site-packages (from tensorboard<2.13,>=2.12->tensorflow) (2.29.0)\n",
      "Requirement already satisfied: tensorboard-data-server<0.8.0,>=0.7.0 in /home/mirza/anaconda3/lib/python3.9/site-packages (from tensorboard<2.13,>=2.12->tensorflow) (0.7.1)\n",
      "Requirement already satisfied: werkzeug>=1.0.1 in /home/mirza/anaconda3/lib/python3.9/site-packages (from tensorboard<2.13,>=2.12->tensorflow) (2.3.6)\n",
      "Requirement already satisfied: cachetools<6.0,>=2.0.0 in /home/mirza/anaconda3/lib/python3.9/site-packages (from google-auth<3,>=1.6.3->tensorboard<2.13,>=2.12->tensorflow) (5.3.1)\n",
      "Requirement already satisfied: pyasn1-modules>=0.2.1 in /home/mirza/anaconda3/lib/python3.9/site-packages (from google-auth<3,>=1.6.3->tensorboard<2.13,>=2.12->tensorflow) (0.3.0)\n",
      "Requirement already satisfied: rsa<5,>=3.1.4 in /home/mirza/anaconda3/lib/python3.9/site-packages (from google-auth<3,>=1.6.3->tensorboard<2.13,>=2.12->tensorflow) (4.9)\n",
      "Requirement already satisfied: urllib3<2.0 in /home/mirza/anaconda3/lib/python3.9/site-packages (from google-auth<3,>=1.6.3->tensorboard<2.13,>=2.12->tensorflow) (1.26.16)\n",
      "Requirement already satisfied: requests-oauthlib>=0.7.0 in /home/mirza/anaconda3/lib/python3.9/site-packages (from google-auth-oauthlib<1.1,>=0.5->tensorboard<2.13,>=2.12->tensorflow) (1.3.1)\n",
      "Requirement already satisfied: zipp>=0.5 in /home/mirza/anaconda3/lib/python3.9/site-packages (from importlib-metadata>=4.6->jax>=0.3.15->tensorflow) (3.15.0)\n",
      "Requirement already satisfied: charset-normalizer<4,>=2 in /home/mirza/anaconda3/lib/python3.9/site-packages (from requests<3,>=2.21.0->tensorboard<2.13,>=2.12->tensorflow) (2.0.4)\n",
      "Requirement already satisfied: idna<4,>=2.5 in /home/mirza/anaconda3/lib/python3.9/site-packages (from requests<3,>=2.21.0->tensorboard<2.13,>=2.12->tensorflow) (3.4)\n",
      "Requirement already satisfied: certifi>=2017.4.17 in /home/mirza/anaconda3/lib/python3.9/site-packages (from requests<3,>=2.21.0->tensorboard<2.13,>=2.12->tensorflow) (2023.5.7)\n",
      "Requirement already satisfied: MarkupSafe>=2.1.1 in /home/mirza/anaconda3/lib/python3.9/site-packages (from werkzeug>=1.0.1->tensorboard<2.13,>=2.12->tensorflow) (2.1.1)\n",
      "Requirement already satisfied: pyasn1<0.6.0,>=0.4.6 in /home/mirza/anaconda3/lib/python3.9/site-packages (from pyasn1-modules>=0.2.1->google-auth<3,>=1.6.3->tensorboard<2.13,>=2.12->tensorflow) (0.5.0)\n",
      "Requirement already satisfied: oauthlib>=3.0.0 in /home/mirza/anaconda3/lib/python3.9/site-packages (from requests-oauthlib>=0.7.0->google-auth-oauthlib<1.1,>=0.5->tensorboard<2.13,>=2.12->tensorflow) (3.2.2)\n",
      "Requirement already satisfied: keras in /home/mirza/anaconda3/lib/python3.9/site-packages (2.12.0)\n"
     ]
    }
   ],
   "source": [
    "!pip install tensorflow\n",
    "!pip install keras\n"
   ]
  },
  {
   "cell_type": "code",
   "execution_count": 2,
   "id": "46a08d44",
   "metadata": {},
   "outputs": [
    {
     "name": "stderr",
     "output_type": "stream",
     "text": [
      "2023-07-24 12:21:01.347259: I tensorflow/tsl/cuda/cudart_stub.cc:28] Could not find cuda drivers on your machine, GPU will not be used.\n",
      "2023-07-24 12:21:01.743613: I tensorflow/tsl/cuda/cudart_stub.cc:28] Could not find cuda drivers on your machine, GPU will not be used.\n",
      "2023-07-24 12:21:01.746337: I tensorflow/core/platform/cpu_feature_guard.cc:182] This TensorFlow binary is optimized to use available CPU instructions in performance-critical operations.\n",
      "To enable the following instructions: AVX2 FMA, in other operations, rebuild TensorFlow with the appropriate compiler flags.\n",
      "2023-07-24 12:21:03.650510: W tensorflow/compiler/tf2tensorrt/utils/py_utils.cc:38] TF-TRT Warning: Could not find TensorRT\n"
     ]
    }
   ],
   "source": [
    "import os\n",
    "import cv2\n",
    "import numpy as np\n",
    "import pandas as pd\n",
    "import matplotlib.pyplot as plt\n",
    "from sklearn.model_selection import train_test_split\n",
    "from sklearn.preprocessing import LabelEncoder\n",
    "from sklearn.metrics import accuracy_score, classification_report, confusion_matrix\n",
    "from keras.models import Sequential\n",
    "from keras.layers import Dense, Flatten\n"
   ]
  },
  {
   "cell_type": "code",
   "execution_count": 3,
   "id": "41f38b9c",
   "metadata": {},
   "outputs": [],
   "source": [
    "dataset = [] \n",
    "# List of folder paths\n",
    "folder_paths = [\n",
    "    \"/home/mirza/Desktop/Navttac/ML-1st/Fruits360/fruits-360-original-size/fruits-360-original-size/Training/apple_6\",\n",
    "    \"/home/mirza/Desktop/Navttac/ML-1st/Fruits360/fruits-360-original-size/fruits-360-original-size/Training/apple_braeburn_1\",\n",
    "    \"/home/mirza/Desktop/Navttac/ML-1st/Fruits360/fruits-360-original-size/fruits-360-original-size/Training/apple_crimson_snow_1\",\n",
    "    \"/home/mirza/Desktop/Navttac/ML-1st/Fruits360/fruits-360-original-size/fruits-360-original-size/Training/apple_golden_1\",\n",
    "    \"/home/mirza/Desktop/Navttac/ML-1st/Fruits360/fruits-360-original-size/fruits-360-original-size/Training/apple_golden_2\",\n",
    "    \"/home/mirza/Desktop/Navttac/ML-1st/Fruits360/fruits-360-original-size/fruits-360-original-size/Training/apple_golden_3\",\n",
    "    \"/home/mirza/Desktop/Navttac/ML-1st/Fruits360/fruits-360-original-size/fruits-360-original-size/Training/apple_granny_smith_1\",\n",
    "   \"/home/mirza/Desktop/Navttac/ML-1st/Fruits360/fruits-360-original-size/fruits-360-original-size/Training/apple_hit_1\",\n",
    "    \"/home/mirza/Desktop/Navttac/ML-1st/Fruits360/fruits-360-original-size/fruits-360-original-size/Training/apple_pink_lady_1\",\n",
    "    \"/home/mirza/Desktop/Navttac/ML-1st/Fruits360/fruits-360-original-size/fruits-360-original-size/Training/apple_red_1\",\n",
    "    \"/home/mirza/Desktop/Navttac/ML-1st/Fruits360/fruits-360-original-size/fruits-360-original-size/Training/apple_red_2\",\n",
    "    \"/home/mirza/Desktop/Navttac/ML-1st/Fruits360/fruits-360-original-size/fruits-360-original-size/Training/apple_red_3\",\n",
    "    \"/home/mirza/Desktop/Navttac/ML-1st/Fruits360/fruits-360-original-size/fruits-360-original-size/Training/apple_red_delicios_1\",\n",
    "    \"/home/mirza/Desktop/Navttac/ML-1st/Fruits360/fruits-360-original-size/fruits-360-original-size/Training/apple_red_yellow_1\",\n",
    "    \"/home/mirza/Desktop/Navttac/ML-1st/Fruits360/fruits-360-original-size/fruits-360-original-size/Training/apple_rotten_1\",\n",
    "    \"/home/mirza/Desktop/Navttac/ML-1st/Fruits360/fruits-360-original-size/fruits-360-original-size/Training/cabbage_white_1\",\n",
    "     \"/home/mirza/Desktop/Navttac/ML-1st/Fruits360/fruits-360-original-size/fruits-360-original-size/Training/carrot_1\",\n",
    "     \"/home/mirza/Desktop/Navttac/ML-1st/Fruits360/fruits-360-original-size/fruits-360-original-size/Training/cucumber_1\",\n",
    "     \"/home/mirza/Desktop/Navttac/ML-1st/Fruits360/fruits-360-original-size/fruits-360-original-size/Training/cucumber_3\",\n",
    "     \"/home/mirza/Desktop/Navttac/ML-1st/Fruits360/fruits-360-original-size/fruits-360-original-size/Training/cabbage_white_1\",\n",
    "     \"/home/mirza/Desktop/Navttac/ML-1st/Fruits360/fruits-360-original-size/fruits-360-original-size/Training/zucchini_dark_1\",\n",
    "     \"/home/mirza/Desktop/Navttac/ML-1st/Fruits360/fruits-360-original-size/fruits-360-original-size/Training/pear_1\",\n",
    "     \"/home/mirza/Desktop/Navttac/ML-1st/Fruits360/fruits-360-original-size/fruits-360-original-size/Training/pear_3\",\n",
    "     \"/home/mirza/Desktop/Navttac/ML-1st/Fruits360/fruits-360-original-size/fruits-360-original-size/Training/zucchini_1\",\n",
    "    \n",
    "    # Add the rest of the folder paths here\n",
    "]\n",
    "\n",
    "# Iterate over the folder paths and load images\n",
    "for i in folder_paths:\n",
    "    folder_name = os.path.basename(i)\n",
    "    \n",
    "    # Iterate over the images in the subdirectory\n",
    "    for file_name in os.listdir(i):\n",
    "        image_path = os.path.join(i, file_name)\n",
    "        \n",
    "        if os.path.isfile(image_path):  # Only consider files\n",
    "            # Load the image using OpenCV\n",
    "            image = cv2.imread(image_path, cv2.IMREAD_GRAYSCALE)\n",
    "            \n",
    "            # If the image was successfully loaded\n",
    "            if image is not None:\n",
    "                # Resize the grayscale image to 250X250 pixels\n",
    "                resized_image = cv2.resize(image, (250, 250))\n",
    "                \n",
    "                # Flatten the image and append each pixel as a separate feature along with the label to the dataset\n",
    "                flattened_image = resized_image.flatten().tolist()\n",
    "                dataset.append(flattened_image + [folder_name])\n",
    "\n",
    "# Convert the dataset to a pandas DataFrame\n",
    "df = pd.DataFrame(dataset, columns=[f'pixel_{i+1}' for i in range(250*250)] + ['label'])\n",
    "\n",
    "# Normalize the pixel values between 0 and 1\n",
    "X = df.iloc[:, :-1] / 255\n",
    "Y = df.iloc[:, -1]\n",
    "\n",
    "# Encode the labels with numeric values\n",
    "label_encoder = LabelEncoder()\n",
    "Y_encoded = label_encoder.fit_transform(Y)\n",
    "y_series = pd.Series(Y_encoded, name='Target')\n",
    "\n",
    "# Concatenate 'X' (features) and 'y_series' (target variable) along columns (axis=1)\n",
    "df_encoded = pd.concat([X, y_series], axis=1)\n",
    "\n",
    "# Split the data into training and testing sets (80% training, 20% testing)\n",
    "X_train, X_test, y_train, y_test = train_test_split(X, y_series, test_size=0.2, random_state=42)\n"
   ]
  },
  {
   "cell_type": "markdown",
   "id": "6a0ec80e",
   "metadata": {},
   "source": [
    "`# Activation Function in Neural Networks\n",
    "\n",
    "In neural networks, an \"activation function\" is a crucial component that introduces non-linearity to the model. It is applied to the output of each neuron in a layer and determines whether the neuron should be activated (fire) or not based on its input.\n",
    "\n",
    "Activation functions play a fundamental role in neural networks for the following reasons:\n",
    "\n",
    "1. **Introducing Non-linearity**: Without activation functions, the entire neural network would be equivalent to a single linear transformation, making it unable to learn complex patterns in the data. Non-linear activation functions allow neural networks to model complex relationships between features and capture intricate patterns.\n",
    "\n",
    "2. **Learning Complex Representations**: Activation functions enable neural networks to learn hierarchical representations of data. Each layer learns more abstract and higher-level features from the input data, contributing to the network's ability to understand complex patterns.\n",
    "\n",
    "3. **Backpropagation and Gradient Descent**: Activation functions must be differentiable to facilitate the backpropagation algorithm. During training, the gradients of the loss function with respect to the model's parameters are computed and used to update the weights and biases of the neurons, ultimately optimizing the model.\n",
    "\n",
    "There are several commonly used activation functions in neural networks, each with its characteristics:\n",
    "\n",
    "### Sigmoid Activation Function\n",
    "The sigmoid activation function maps the input to a value between 0 and 1. It was commonly used in earlier neural network architectures, but it has some limitations, such as vanishing gradients during training, which can slow down convergence.\n",
    "\n",
    "### ReLU (Rectified Linear Unit) Activation Function\n",
    "The ReLU activation function is widely used in modern neural networks due to its simplicity and effectiveness. It returns the input if it is positive and zero otherwise, introducing non-linearity. ReLU addresses the vanishing gradient problem and accelerates training, but it may suffer from the \"dying ReLU\" problem, where neurons get stuck and stop learning.\n",
    "\n",
    "### Leaky ReLU Activation Function\n",
    "Leaky ReLU is a modification of ReLU that addresses the \"dying ReLU\" issue. It allows a small, non-zero gradient when the input is negative, which helps neurons continue learning.\n",
    "\n",
    "### Tanh (Hyperbolic Tangent) Activation Function\n",
    "The tanh activation function is similar to the sigmoid but maps the input to a value between -1 and 1. It also suffers from the vanishing gradient problem but is zero-centered, making it useful for certain types of data.\n",
    "\n",
    "### Softmax Activation Function\n",
    "The softmax activation function is used in the output layer of multi-class classification problems. It converts raw scores into a probability distribution over multiple classes, enabling the model to predict the class with the highest probability.\n",
    "\n",
    "In summary, activation functions are essential components in neural networks that introduce non-linearity, enable learning complex representations, and facilitate the optimization process during training. Choosing the appropriate activation function depends on the specific problem and architecture of the neural network.\n"
   ]
  },
  {
   "cell_type": "code",
   "execution_count": 4,
   "id": "a08217ed",
   "metadata": {},
   "outputs": [
    {
     "data": {
      "image/png": "[encoded data removed]",
      "text/plain": [
       "<Figure size 864x576 with 1 Axes>"
      ]
     },
     "metadata": {
      "needs_background": "light"
     },
     "output_type": "display_data"
    }
   ],
   "source": [
    "import numpy as np\n",
    "import matplotlib.pyplot as plt\n",
    "\n",
    "# Sigmoid Activation Function\n",
    "def sigmoid(x):\n",
    "    return 1 / (1 + np.exp(-x))\n",
    "\n",
    "# ReLU Activation Function\n",
    "def relu(x):\n",
    "    return np.maximum(0, x)\n",
    "\n",
    "# Leaky ReLU Activation Function\n",
    "def leaky_relu(x, alpha=0.01):\n",
    "    return np.maximum(alpha * x, x)\n",
    "\n",
    "# Tanh Activation Function\n",
    "def tanh(x):\n",
    "    return np.tanh(x)\n",
    "\n",
    "# Softmax Activation Function (only for visualization, used in the output layer for classification)\n",
    "def softmax(x):\n",
    "    exp_x = np.exp(x - np.max(x))  # Subtracting the max value for numerical stability\n",
    "    return exp_x / np.sum(exp_x)\n",
    "\n",
    "# Range of input values\n",
    "x = np.linspace(-5, 5, 100)\n",
    "\n",
    "# Compute activation function values\n",
    "sigmoid_y = sigmoid(x)\n",
    "relu_y = relu(x)\n",
    "leaky_relu_y = leaky_relu(x)\n",
    "tanh_y = tanh(x)\n",
    "softmax_y = softmax(x)\n",
    "\n",
    "# Plot the activation functions\n",
    "plt.figure(figsize=(12, 8))\n",
    "\n",
    "plt.plot(x, sigmoid_y, label='Sigmoid', color='blue')\n",
    "plt.plot(x, relu_y, label='ReLU', color='red')\n",
    "plt.plot(x, leaky_relu_y, label='Leaky ReLU', color='green')\n",
    "plt.plot(x, tanh_y, label='Tanh', color='purple')\n",
    "plt.plot(x, softmax_y, label='Softmax', color='orange')\n",
    "\n",
    "plt.axhline(0, color='black', linewidth=0.5, linestyle='--')\n",
    "plt.axvline(0, color='black', linewidth=0.5, linestyle='--')\n",
    "\n",
    "plt.xlabel('Input')\n",
    "plt.ylabel('Output')\n",
    "plt.title('Activation Functions')\n",
    "plt.legend()\n",
    "plt.grid(True)\n",
    "plt.show()\n"
   ]
  },
  {
   "cell_type": "markdown",
   "id": "f38f1a91",
   "metadata": {},
   "source": [
    "## Loss Function, Optimizer, and Metrics in Neural Network Compilation\n",
    "\n",
    "### Loss Function\n",
    "\n",
    "The loss function plays a critical role in training a neural network. It quantifies how well the model is performing on the training data and guides the optimization process. The choice of an appropriate loss function depends on the nature of the machine learning task.\n",
    "\n",
    "In the context of classification tasks, one commonly used loss function is **Categorical Cross-Entropy**. It is particularly suitable for multi-class classification problems, where the target labels are one-hot encoded.\n",
    "\n",
    "The formula for Categorical Cross-Entropy for a single training sample is as follows:\n",
    "\n"
   ]
  },
  {
   "cell_type": "markdown",
   "id": "71da8235",
   "metadata": {},
   "source": [
    "# categorical_cross_entropy = -∑(true_label * log(predicted_probability))"
   ]
  },
  {
   "cell_type": "markdown",
   "id": "48690338",
   "metadata": {},
   "source": [
    "\n",
    "Here, `true_label` is the one-hot encoded vector representing the actual class label, and `predicted_probability` is the output probability distribution of the model for that class. The summation is performed over all classes. The aim is to minimize this loss during training, which encourages the model to improve its predictions.\n",
    "\n",
    "### Optimizer\n",
    "\n",
    "The optimizer is responsible for updating the parameters (weights and biases) of the neural network during the training process. It adjusts these parameters based on the computed gradients of the loss function, with the goal of minimizing the loss and improving the model's performance.\n",
    "\n",
    "One widely used optimizer is **Adam (Adaptive Moment Estimation)**. Adam is an adaptive learning rate optimization algorithm that combines the strengths of AdaGrad and RMSProp. It maintains adaptive learning rates for each parameter, making it efficient and well-suited for a variety of deep learning tasks.\n",
    "\n",
    "### Metrics\n",
    "\n",
    "Metrics are used to evaluate the performance of the trained model during training and testing phases. They provide a quantitative measure of how well the model is generalizing to unseen data.\n",
    "\n",
    "One common evaluation metric for classification tasks is **Accuracy**. Accuracy measures the proportion of correctly classified samples over the total number of samples. It is calculated as:\n",
    "\n"
   ]
  },
  {
   "cell_type": "markdown",
   "id": "6bba7d7f",
   "metadata": {},
   "source": [
    "## Optimizer Types\n",
    "\n",
    "When training a neural network, choosing an appropriate optimizer is crucial for efficient and effective learning. Here are some commonly used optimizer types:\n",
    "\n",
    "1. **Stochastic Gradient Descent (SGD)**: The basic optimizer that updates the weights after each individual training sample. It can suffer from slow convergence and oscillations in the loss landscape.\n",
    "\n",
    "2. **Momentum**: It introduces a momentum term that helps the optimizer to move more smoothly and accelerate in the relevant direction, especially in the presence of sparse gradients.\n",
    "\n",
    "3. **Nesterov Accelerated Gradient (NAG)**: A modification of the momentum optimizer that looks ahead before calculating the gradient, leading to faster convergence.\n",
    "\n",
    "4. **Adagrad (Adaptive Gradient Algorithm)**: It adapts the learning rate for each parameter based on historical gradient information. It performs well for sparse data but can have a diminishing learning rate over time.\n",
    "\n",
    "5. **RMSprop (Root Mean Square Propagation)**: An extension of Adagrad that uses a moving average of squared gradients to control the learning rate.\n",
    "\n",
    "6. **Adam (Adaptive Moment Estimation)**: Combines the benefits of RMSprop and momentum methods by maintaining both the moving average of gradients and their second moments. It is widely used and considered to be robust and efficient.\n",
    "\n",
    "7. **Adadelta**: An extension of Adagrad that deals with the diminishing learning rate issue by using a moving window of historical gradients.\n",
    "\n",
    "8. **Nadam (Nesterov-accelerated Adaptive Moment Estimation)**: An extension of Adam with NAG that further improves the convergence rate.\n",
    "\n",
    "9. **RAdam (Rectified Adam)**: A variant of Adam that performs better in terms of generalization and convergence by controlling the variance of the adaptive learning rate.\n",
    "\n",
    "Remember that the choice of optimizer may depend on the specific problem and the characteristics of the dataset. Experimentation with different optimizers can help find the most suitable one for a given task.\n"
   ]
  },
  {
   "cell_type": "code",
   "execution_count": 10,
   "id": "06496248",
   "metadata": {},
   "outputs": [
    {
     "data": {
      "image/png": "[encoded data removed]",
      "text/plain": [
       "<Figure size 720x432 with 1 Axes>"
      ]
     },
     "metadata": {
      "needs_background": "light"
     },
     "output_type": "display_data"
    }
   ],
   "source": [
    "import matplotlib.pyplot as plt\n",
    "import seaborn as sns\n",
    "\n",
    "# Data for optimizer comparison (example values)\n",
    "optimizers = ['SGD', 'Momentum', 'NAG', 'Adagrad', 'RMSprop', 'Adam', 'Adadelta', 'Nadam', 'RAdam']\n",
    "accuracy_scores = [0.82, 0.87, 0.89, 0.91, 0.92, 0.94, 0.93, 0.95, 0.94]\n",
    "\n",
    "# Set a custom color palette\n",
    "sns.set_palette(\"viridis\", len(optimizers))\n",
    "\n",
    "# Create a bar chart\n",
    "plt.figure(figsize=(10, 6))\n",
    "ax = sns.barplot(x=optimizers, y=accuracy_scores)\n",
    "\n",
    "# Add grid lines\n",
    "ax.yaxis.grid(True)\n",
    "ax.set_axisbelow(True)\n",
    "\n",
    "plt.xlabel('Optimizer Types', fontsize=14)\n",
    "plt.ylabel('Accuracy', fontsize=14)\n",
    "plt.title('Performance Comparison of Optimizers', fontsize=16)\n",
    "\n",
    "# Display the accuracy values above the bars\n",
    "for i, v in enumerate(accuracy_scores):\n",
    "    ax.text(i, v + 0.005, f\"{v:.2f}\", ha='center', va='bottom', fontsize=12)\n",
    "\n",
    "# Rotate x-axis labels for better readability\n",
    "plt.xticks(rotation=45, ha='right', fontsize=12)\n",
    "\n",
    "plt.tight_layout()\n",
    "plt.show()\n"
   ]
  },
  {
   "cell_type": "markdown",
   "id": "ecc95824",
   "metadata": {},
   "source": [
    "# Accuracy = (Number of correctly classified samples) / (Total number of samples)"
   ]
  },
  {
   "cell_type": "markdown",
   "id": "1e878487",
   "metadata": {},
   "source": [
    "\n",
    "Higher accuracy values indicate better model performance in correctly predicting the class labels of the input data.\n",
    "\n",
    "In summary, when compiling a neural network for classification tasks, using **Categorical Cross-Entropy** as the loss function, **Adam** as the optimizer, and tracking the **Accuracy** metric will contribute to effective learning and good predictive performance for the given task.\n",
    "\n",
    "(Note: The actual implementation and results may vary based on the specific neural network architecture and dataset used.)\n"
   ]
  },
  {
   "cell_type": "code",
   "execution_count": 5,
   "id": "b5ec5538",
   "metadata": {},
   "outputs": [
    {
     "name": "stderr",
     "output_type": "stream",
     "text": [
      "2023-07-24 12:23:17.569003: E tensorflow/compiler/xla/stream_executor/cuda/cuda_driver.cc:266] failed call to cuInit: CUDA_ERROR_NO_DEVICE: no CUDA-capable device is detected\n"
     ]
    },
    {
     "name": "stdout",
     "output_type": "stream",
     "text": [
      "Model: \"sequential\"\n",
      "_________________________________________________________________\n",
      " Layer (type)                Output Shape              Param #   \n",
      "=================================================================\n",
      " dense (Dense)               (None, 128)               8000128   \n",
      "                                                                 \n",
      " dense_1 (Dense)             (None, 64)                8256      \n",
      "                                                                 \n",
      " dense_2 (Dense)             (None, 23)                1495      \n",
      "                                                                 \n",
      "=================================================================\n",
      "Total params: 8,009,879\n",
      "Trainable params: 8,009,879\n",
      "Non-trainable params: 0\n",
      "_________________________________________________________________\n"
     ]
    }
   ],
   "source": [
    "# Create a Sequential model\n",
    "model = Sequential()\n",
    "\n",
    "# Add a dense layer with 128 units and 'relu' activation function as the input layer\n",
    "model.add(Dense(128, activation='relu', input_shape=(250*250,)))\n",
    "\n",
    "# Add another dense layer with 64 units and 'relu' activation function\n",
    "model.add(Dense(64, activation='relu'))\n",
    "\n",
    "# Add the output layer with the number of classes (number of unique labels) and 'softmax' activation function\n",
    "model.add(Dense(len(label_encoder.classes_), activation='softmax'))\n",
    "\n",
    "# Compile the model with 'categorical_crossentropy' loss function and 'adam' optimizer\n",
    "model.compile(loss='categorical_crossentropy', optimizer='adam', metrics=['accuracy'])\n",
    "\n",
    "# Print the model summary\n",
    "model.summary()\n"
   ]
  },
  {
   "cell_type": "markdown",
   "id": "9408db70",
   "metadata": {},
   "source": [
    "# Calculate Trainable Parameters in a Keras Sequential Model\n",
    "\n",
    "In a Keras sequential model, trainable parameters include the weights and biases that get updated during the training process. To calculate the trainable parameters, we need to consider the number of weights and biases in each layer.\n",
    "\n",
    "Let's calculate the trainable parameters for the given Keras sequential model with the following architecture:\n",
    "\n",
    "## Model Summary:\n",
    "\n",
    "\n",
    "Number of trainable parameters = (number of input units) * (number of output units) + (number of output units)\n",
    "\n",
    "\n",
    "Let's calculate the trainable parameters for each layer:\n",
    "\n",
    "```python\n",
    "# Number of trainable parameters in the first dense layer\n",
    "trainable_params_layer1 = (250*250) * 128 + 128 #(Bias) # Input shape: (250*250), Output units: 128\n",
    "\n",
    "# Number of trainable parameters in the second dense layer\n",
    "trainable_params_layer2 = 128 * 64 + 64  # Input units: 128, Output units: 64\n",
    "\n",
    "# Number of trainable parameters in the third dense layer\n",
    "trainable_params_layer3 = 64 * 23 + 23  # Input units: 64, Output units: 23\n",
    "\n",
    "# Total number of trainable parameters in the model\n",
    "total_trainable_params = trainable_params_layer1 + trainable_params_layer2 + trainable_params_layer3\n",
    "print(\"Total number of trainable parameters in the model:\", total_trainable_params)\n",
    "\n"
   ]
  },
  {
   "cell_type": "code",
   "execution_count": 6,
   "id": "e2e0572f",
   "metadata": {},
   "outputs": [
    {
     "name": "stdout",
     "output_type": "stream",
     "text": [
      "Total number of trainable parameters in the model: 8009879\n"
     ]
    }
   ],
   "source": [
    "# Number of trainable parameters in the first dense layer\n",
    "trainable_params_layer1 = (250*250) * 128 + 128  # Input shape: (250*250), Output units: 128\n",
    "\n",
    "# Number of trainable parameters in the second dense layer\n",
    "trainable_params_layer2 = 128 * 64 + 64  # Input units: 128, Output units: 64\n",
    "\n",
    "# Number of trainable parameters in the third dense layer\n",
    "trainable_params_layer3 = 64 * 23 + 23  # Input units: 64, Output units: 23\n",
    "\n",
    "# Total number of trainable parameters in the model\n",
    "total_trainable_params = trainable_params_layer1 + trainable_params_layer2 + trainable_params_layer3\n",
    "print(\"Total number of trainable parameters in the model:\", total_trainable_params)\n"
   ]
  },
  {
   "cell_type": "markdown",
   "id": "7096e5c1",
   "metadata": {},
   "source": [
    "## Batch Size in Neural Network Training\n",
    "\n",
    "Batch size is a hyperparameter that determines the number of samples processed by a neural network model in one forward and backward pass during each training iteration. It plays a crucial role in the training process and can impact the model's performance and training efficiency.\n",
    "\n",
    "When training a neural network, the data is divided into smaller batches, and each batch is fed into the model for training. The model then computes the gradients of the loss function with respect to the model's parameters (weights and biases) for each sample in the batch. The average gradient over the entire batch is then used to update the model's parameters through the process of backpropagation.\n",
    "\n",
    "The choice of batch size can have several implications:\n",
    "\n",
    "### Smaller Batch Size\n",
    "\n",
    "- Pros:\n",
    "  - Requires less memory, making it suitable for limited hardware resources.\n",
    "  - Allows more frequent updates to the model's parameters, potentially leading to faster convergence on some datasets.\n",
    "\n",
    "- Cons:\n",
    "  - More noisy updates due to smaller batch statistics, which might result in slower convergence or instability.\n",
    "  - May not fully utilize parallel processing capabilities of GPUs.\n",
    "\n",
    "### Larger Batch Size\n",
    "\n",
    "- Pros:\n",
    "  - More stable updates with smoother convergence, especially when the batch size is large enough.\n",
    "  - Can benefit from better parallel processing on GPUs, potentially speeding up training on large datasets.\n",
    "\n",
    "- Cons:\n",
    "  - Requires more memory, which may limit the batch size on some hardware.\n",
    "  - May take longer to reach convergence compared to smaller batch sizes.\n",
    "  - If the batch size is too large, it might lead to overfitting.\n",
    "\n",
    "Choosing an appropriate batch size depends on various factors such as the available hardware, the size of the dataset, the complexity of the model, and the nature of the problem at hand. Common batch sizes are often powers of 2, such as 32, 64, 128, and so on, but other values can be used as well.\n",
    "\n",
    "Batch size is typically specified when fitting the model using deep learning frameworks like Keras or PyTorch. For instance, in Keras, you can set the batch size using the `batch_size` argument when calling the `fit()` method:\n",
    "\n",
    "```python\n",
    "# Example in Keras\n",
    "model.fit(X_train, y_train, batch_size=32, epochs=10)\n",
    "\n"
   ]
  },
  {
   "cell_type": "markdown",
   "id": "e4c12c84",
   "metadata": {},
   "source": [
    "## Epoch in Neural Network Training\n",
    "\n",
    "In the context of neural network training, an \"epoch\" refers to a single pass through the entire training dataset during the training process. It represents one complete iteration of the training data, where the neural network model has seen and learned from every training sample once.\n",
    "\n",
    "During an epoch, the training data is divided into smaller batches, and each batch is fed into the neural network for training. The model's parameters (weights and biases) are updated after processing each batch using the backpropagation algorithm to minimize the loss function. The goal of training is to iteratively adjust the model's parameters to improve its performance on the training data.\n",
    "\n",
    "The number of epochs is a hyperparameter that needs to be set before training the model. It determines how many times the entire training dataset will be used during training. Choosing the right number of epochs is crucial to prevent overfitting or underfitting.\n",
    "\n",
    "- If the number of epochs is too low, the model may not have enough training iterations to learn from the data adequately, resulting in underfitting, where the model does not generalize well to new data.\n",
    "- If the number of epochs is too high, the model may memorize the training data and not generalize well to unseen data, leading to overfitting.\n",
    "\n",
    "The optimal number of epochs depends on the complexity of the task, the size of the dataset, and the model architecture. It is often determined using techniques such as cross-validation or by monitoring the model's performance on a validation dataset during training.\n",
    "\n",
    "It's common to use early stopping during training, where the training process stops if the model's performance on the validation set does not improve after a certain number of epochs. This helps prevent overfitting and saves computational resources.\n",
    "\n",
    "In summary, an epoch in neural network training represents one pass through the entire training dataset, and training involves running multiple epochs to update the model's parameters and improve its performance on the given task. The number of epochs is an important hyperparameter that should be carefully chosen based on the specific problem and dataset.\n"
   ]
  },
  {
   "cell_type": "markdown",
   "id": "d9d0bbd6",
   "metadata": {},
   "source": [
    "## Validation Split in Neural Network Training\n",
    "\n",
    "In the context of training neural network models, `validation_split` is a parameter used in various deep learning frameworks like Keras to specify the proportion of training data that should be reserved for validation during the training process.\n",
    "\n",
    "When training a neural network, it is crucial to assess its performance on data that it has not seen during training to avoid overfitting. Overfitting occurs when the model performs well on the training data but fails to generalize to new, unseen data. To evaluate the model's generalization ability, a separate set of data, known as the validation set, is used.\n",
    "\n",
    "The `validation_split` parameter allows you to automatically split a portion of the training data as a validation set during the training process. For example, if `validation_split=0.2`, it means that 20% of the training data will be used for validation, while the remaining 80% will be used for actual training.\n",
    "\n",
    "Typically, the validation data is not used in the backpropagation process (i.e., updating the model's parameters) during each epoch. Instead, the validation set is used only to evaluate the model's performance after each epoch. This allows you to monitor how well the model is generalizing and whether it is overfitting or underfitting.\n",
    "\n",
    "During training, you will see output that includes validation loss and validation accuracy, representing the performance of the model on the validation set. By monitoring these metrics, you can determine when to stop training (using techniques like early stopping) to avoid overfitting and achieve the best generalization performance.\n",
    "\n",
    "It's important to note that the `validation_split` parameter is typically used when you have a large enough dataset. For smaller datasets, it is often better to have a separate validation set that is not part of the training data.\n",
    "\n",
    "In summary, `validation_split` is a valuable parameter that enables you to assess the model's generalization performance during training. By reserving a portion of the training data as a validation set, you can effectively monitor the model's performance and make informed decisions to achieve the best results for your specific task.\n"
   ]
  },
  {
   "cell_type": "code",
   "execution_count": 7,
   "id": "05c97201",
   "metadata": {},
   "outputs": [
    {
     "name": "stdout",
     "output_type": "stream",
     "text": [
      "Epoch 1/10\n"
     ]
    },
    {
     "name": "stderr",
     "output_type": "stream",
     "text": [
      "2023-07-24 12:23:19.113642: W tensorflow/tsl/framework/cpu_allocator_impl.cc:83] Allocation of 1973000000 exceeds 10% of free system memory.\n"
     ]
    },
    {
     "name": "stdout",
     "output_type": "stream",
     "text": [
      "124/124 [==============================] - 8s 56ms/step - loss: 4.2348 - accuracy: 0.3026 - val_loss: 1.4140 - val_accuracy: 0.5035\n",
      "Epoch 2/10\n",
      "124/124 [==============================] - 6s 52ms/step - loss: 1.0648 - accuracy: 0.6612 - val_loss: 0.8386 - val_accuracy: 0.7234\n",
      "Epoch 3/10\n",
      "124/124 [==============================] - 7s 53ms/step - loss: 0.6169 - accuracy: 0.7874 - val_loss: 0.5161 - val_accuracy: 0.8065\n",
      "Epoch 4/10\n",
      "124/124 [==============================] - 7s 56ms/step - loss: 0.6371 - accuracy: 0.7871 - val_loss: 0.7999 - val_accuracy: 0.7396\n",
      "Epoch 5/10\n",
      "124/124 [==============================] - 7s 53ms/step - loss: 0.3916 - accuracy: 0.8576 - val_loss: 0.2726 - val_accuracy: 0.8946\n",
      "Epoch 6/10\n",
      "124/124 [==============================] - 7s 59ms/step - loss: 0.2075 - accuracy: 0.9331 - val_loss: 0.3625 - val_accuracy: 0.8480\n",
      "Epoch 7/10\n",
      "124/124 [==============================] - 7s 60ms/step - loss: 0.2406 - accuracy: 0.9123 - val_loss: 0.2828 - val_accuracy: 0.8977\n",
      "Epoch 8/10\n",
      "124/124 [==============================] - 7s 56ms/step - loss: 0.1440 - accuracy: 0.9554 - val_loss: 0.1207 - val_accuracy: 0.9615\n",
      "Epoch 9/10\n",
      "124/124 [==============================] - 7s 56ms/step - loss: 0.1576 - accuracy: 0.9460 - val_loss: 0.1256 - val_accuracy: 0.9595\n",
      "Epoch 10/10\n",
      "124/124 [==============================] - 7s 56ms/step - loss: 0.1168 - accuracy: 0.9564 - val_loss: 0.1665 - val_accuracy: 0.9260\n"
     ]
    }
   ],
   "source": [
    "# Convert target variables to one-hot encoded format for multi-class classification\n",
    "from keras.utils import to_categorical\n",
    "y_train_encoded = to_categorical(y_train)\n",
    "y_test_encoded = to_categorical(y_test)\n",
    "\n",
    "# Train the model on the training data\n",
    "history = model.fit(X_train, y_train_encoded, batch_size=32, epochs=10, validation_split=0.2)\n"
   ]
  },
  {
   "cell_type": "code",
   "execution_count": 8,
   "id": "fa658c9f",
   "metadata": {},
   "outputs": [
    {
     "name": "stdout",
     "output_type": "stream",
     "text": [
      " 8/39 [=====>........................] - ETA: 0s"
     ]
    },
    {
     "name": "stderr",
     "output_type": "stream",
     "text": [
      "2023-07-24 12:24:31.293132: W tensorflow/tsl/framework/cpu_allocator_impl.cc:83] Allocation of 617000000 exceeds 10% of free system memory.\n"
     ]
    },
    {
     "name": "stdout",
     "output_type": "stream",
     "text": [
      "39/39 [==============================] - 0s 8ms/step\n",
      "Accuracy: 0.9457050243111832\n",
      "              precision    recall  f1-score   support\n",
      "\n",
      "           0       0.86      1.00      0.93        75\n",
      "           1       1.00      1.00      1.00        75\n",
      "           2       1.00      0.98      0.99        50\n",
      "           3       1.00      0.73      0.85        75\n",
      "           4       0.81      1.00      0.90        64\n",
      "           5       0.79      0.65      0.71        57\n",
      "           6       0.71      1.00      0.83        68\n",
      "           7       1.00      0.98      0.99       101\n",
      "           8       0.98      1.00      0.99        61\n",
      "           9       1.00      0.98      0.99        61\n",
      "          10       1.00      0.87      0.93        53\n",
      "          11       0.98      1.00      0.99        58\n",
      "          12       1.00      1.00      1.00        58\n",
      "          13       1.00      0.91      0.95        56\n",
      "          14       1.00      1.00      1.00        61\n",
      "          15       1.00      0.67      0.80        30\n",
      "          16       1.00      1.00      1.00        21\n",
      "          17       1.00      1.00      1.00        20\n",
      "          18       1.00      1.00      1.00        33\n",
      "          19       1.00      0.98      0.99        65\n",
      "          20       1.00      1.00      1.00        32\n",
      "          21       1.00      1.00      1.00        28\n",
      "          22       1.00      1.00      1.00        32\n",
      "\n",
      "    accuracy                           0.95      1234\n",
      "   macro avg       0.96      0.95      0.95      1234\n",
      "weighted avg       0.95      0.95      0.95      1234\n",
      "\n",
      "Confusion Matrix:\n",
      "[[75  0  0  0  0  0  0  0  0  0  0  0  0  0  0  0  0  0  0  0  0  0  0]\n",
      " [ 0 75  0  0  0  0  0  0  0  0  0  0  0  0  0  0  0  0  0  0  0  0  0]\n",
      " [ 0  0 49  0  0  0  0  0  1  0  0  0  0  0  0  0  0  0  0  0  0  0  0]\n",
      " [ 0  0  0 55 10 10  0  0  0  0  0  0  0  0  0  0  0  0  0  0  0  0  0]\n",
      " [ 0  0  0  0 64  0  0  0  0  0  0  0  0  0  0  0  0  0  0  0  0  0  0]\n",
      " [ 0  0  0  0  0 37 20  0  0  0  0  0  0  0  0  0  0  0  0  0  0  0  0]\n",
      " [ 0  0  0  0  0  0 68  0  0  0  0  0  0  0  0  0  0  0  0  0  0  0  0]\n",
      " [ 2  0  0  0  0  0  0 99  0  0  0  0  0  0  0  0  0  0  0  0  0  0  0]\n",
      " [ 0  0  0  0  0  0  0  0 61  0  0  0  0  0  0  0  0  0  0  0  0  0  0]\n",
      " [ 0  0  0  0  0  0  0  0  0 60  0  1  0  0  0  0  0  0  0  0  0  0  0]\n",
      " [ 0  0  0  0  0  0  7  0  0  0 46  0  0  0  0  0  0  0  0  0  0  0  0]\n",
      " [ 0  0  0  0  0  0  0  0  0  0  0 58  0  0  0  0  0  0  0  0  0  0  0]\n",
      " [ 0  0  0  0  0  0  0  0  0  0  0  0 58  0  0  0  0  0  0  0  0  0  0]\n",
      " [ 0  0  0  0  5  0  0  0  0  0  0  0  0 51  0  0  0  0  0  0  0  0  0]\n",
      " [ 0  0  0  0  0  0  0  0  0  0  0  0  0  0 61  0  0  0  0  0  0  0  0]\n",
      " [10  0  0  0  0  0  0  0  0  0  0  0  0  0  0 20  0  0  0  0  0  0  0]\n",
      " [ 0  0  0  0  0  0  0  0  0  0  0  0  0  0  0  0 21  0  0  0  0  0  0]\n",
      " [ 0  0  0  0  0  0  0  0  0  0  0  0  0  0  0  0  0 20  0  0  0  0  0]\n",
      " [ 0  0  0  0  0  0  0  0  0  0  0  0  0  0  0  0  0  0 33  0  0  0  0]\n",
      " [ 0  0  0  0  0  0  1  0  0  0  0  0  0  0  0  0  0  0  0 64  0  0  0]\n",
      " [ 0  0  0  0  0  0  0  0  0  0  0  0  0  0  0  0  0  0  0  0 32  0  0]\n",
      " [ 0  0  0  0  0  0  0  0  0  0  0  0  0  0  0  0  0  0  0  0  0 28  0]\n",
      " [ 0  0  0  0  0  0  0  0  0  0  0  0  0  0  0  0  0  0  0  0  0  0 32]]\n"
     ]
    }
   ],
   "source": [
    "# Predict the labels for the test set\n",
    "y_pred_encoded = model.predict(X_test)\n",
    "y_pred = np.argmax(y_pred_encoded, axis=1)\n",
    "\n",
    "# Calculate the accuracy of the model\n",
    "accuracy = accuracy_score(y_test, y_pred)\n",
    "print(\"Accuracy:\", accuracy)\n",
    "\n",
    "# Print classification report\n",
    "print(classification_report(y_test, y_pred))\n",
    "\n",
    "# Print confusion matrix\n",
    "conf_matrix = confusion_matrix(y_test, y_pred)\n",
    "print(\"Confusion Matrix:\")\n",
    "print(conf_matrix)\n"
   ]
  },
  {
   "cell_type": "code",
   "execution_count": null,
   "id": "0438dc28",
   "metadata": {},
   "outputs": [],
   "source": [
    "# Save the model to a file\n",
    "model.save('dnn_model.h5')"
   ]
  }
 ],
 "metadata": {
  "kernelspec": {
   "display_name": "Python 3 (ipykernel)",
   "language": "python",
   "name": "python3"
  },
  "language_info": {
   "codemirror_mode": {
    "name": "ipython",
    "version": 3
   },
   "file_extension": ".py",
   "mimetype": "text/x-python",
   "name": "python",
   "nbconvert_exporter": "python",
   "pygments_lexer": "ipython3",
   "version": "3.10.9"
  }
 },
 "nbformat": 4,
 "nbformat_minor": 5
}
