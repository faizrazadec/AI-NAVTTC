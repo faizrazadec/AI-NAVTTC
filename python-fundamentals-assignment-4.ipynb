{
 "cells": [
  {
   "cell_type": "markdown",
   "id": "bb8e35d0",
   "metadata": {},
   "source": [
    "# task-1"
   ]
  },
  {
   "cell_type": "code",
   "execution_count": 1,
   "id": "e40a73f0",
   "metadata": {},
   "outputs": [],
   "source": [
    "#Store your Bio data (Name, roll number, age, date of birth and Gender) in the variables.\n",
    "\n",
    "name = 'faiz raza'\n",
    "roll_number = 20\n",
    "age = 21\n",
    "date_of_birth = '6-12-2001'"
   ]
  },
  {
   "cell_type": "markdown",
   "id": "0120b800",
   "metadata": {},
   "source": [
    "## task-2"
   ]
  },
  {
   "cell_type": "code",
   "execution_count": 4,
   "id": "892a2cb7",
   "metadata": {},
   "outputs": [
    {
     "name": "stdout",
     "output_type": "stream",
     "text": [
      "enter dollor ammount: 2\n",
      "347.0\n"
     ]
    }
   ],
   "source": [
    "#Write a program to convert $ dollar into Pakistani Rupees.\n",
    "\n",
    "dollor = float(input(\"enter dollor ammount: \"))\n",
    "\n",
    "def conv (dollor):\n",
    "    pkr = dollor*173.50\n",
    "    print(pkr)\n",
    "conv(dollor)"
   ]
  },
  {
   "cell_type": "markdown",
   "id": "a608f9ca",
   "metadata": {},
   "source": [
    "### task-3"
   ]
  },
  {
   "cell_type": "code",
   "execution_count": 11,
   "id": "fe33990e",
   "metadata": {},
   "outputs": [
    {
     "name": "stdout",
     "output_type": "stream",
     "text": [
      "***********************\n",
      "*                     *\n",
      "*                     *\n",
      "*                     *\n",
      "*                     *\n",
      "***********************\n"
     ]
    }
   ],
   "source": [
    "print(\"***********************\")\n",
    "print(\"*                     *\")\n",
    "print(\"*                     *\")\n",
    "print(\"*                     *\")\n",
    "print(\"*                     *\")\n",
    "print(\"***********************\")\n"
   ]
  },
  {
   "cell_type": "markdown",
   "id": "f0f3a0c4",
   "metadata": {},
   "source": [
    "# task-4"
   ]
  },
  {
   "cell_type": "code",
   "execution_count": 12,
   "id": "acaf9e7c",
   "metadata": {},
   "outputs": [
    {
     "name": "stdout",
     "output_type": "stream",
     "text": [
      "welcome to the faizi calculator\n",
      "for add, type 1\n",
      "for sub, type 2\n",
      "for mul, type 3\n",
      "for div, type 4\n",
      "selector operatio 1-4: 2\n",
      "enter num1: 2\n",
      "enter num1: 2\n",
      "0\n"
     ]
    }
   ],
   "source": [
    "#Make a calculator Which will base on your result scenario.\n",
    "\n",
    "print(\"welcome to the faizi calculator\")\n",
    "\n",
    "def add(x,y):\n",
    "    print(x+y) \n",
    "\n",
    "def sub(x,y):\n",
    "    print(x-y)\n",
    "\n",
    "def mul(x,y):\n",
    "    print(x*y)\n",
    "\n",
    "def div(x,y):\n",
    "    print(x/y)\n",
    "\n",
    "print(\"for add, type 1\")\n",
    "print(\"for sub, type 2\")\n",
    "print(\"for mul, type 3\")\n",
    "print(\"for div, type 4\")\n",
    "\n",
    "choice = int(input(\"selector operatio 1-4: \"))\n",
    "\n",
    "x = int(input(\"enter num1: \"))\n",
    "y = int(input(\"enter num1: \"))\n",
    "\n",
    "\n",
    "if choice == 1:\n",
    "    add(x,y)\n",
    "elif choice == 2:\n",
    "    sub(x,y)\n",
    "elif choice == 3:\n",
    "    mul(x,y)\n",
    "elif choice == 4:\n",
    "    if x !=0:\n",
    "        div(x,y)\n",
    "    else:\n",
    "        print(\"error\")\n",
    "else:\n",
    "    print(\"invalid choice\")"
   ]
  },
  {
   "cell_type": "markdown",
   "id": "7ff8018c",
   "metadata": {},
   "source": [
    "## task-5"
   ]
  },
  {
   "cell_type": "code",
   "execution_count": 16,
   "id": "a8897423",
   "metadata": {},
   "outputs": [
    {
     "name": "stdout",
     "output_type": "stream",
     "text": [
      "welcome to the faizi calculator\n",
      "enter num1: 2\n",
      "enter num1: 1\n",
      "2\n"
     ]
    }
   ],
   "source": [
    "#Make a calculator Which will base on your result scenario.\n",
    "\n",
    "print(\"welcome to the faizi calculator\")\n",
    "\n",
    "def div(x,y):\n",
    "    print(int(x/y))\n",
    "\n",
    "x = int(input(\"enter num1: \"))\n",
    "y = int(input(\"enter num1: \"))\n",
    "\n",
    "\n",
    "if x !=0:\n",
    "    div(x,y)\n",
    "else:\n",
    "    print(\"error\")\n"
   ]
  },
  {
   "cell_type": "markdown",
   "id": "7a6550b9",
   "metadata": {},
   "source": [
    "### task-6"
   ]
  },
  {
   "cell_type": "code",
   "execution_count": 19,
   "id": "86642bec",
   "metadata": {},
   "outputs": [
    {
     "name": "stdout",
     "output_type": "stream",
     "text": [
      "enter: 23.3\n",
      "73.94\n"
     ]
    }
   ],
   "source": [
    "C = float(input(\"enter: \"))\n",
    "def Fe (C):\n",
    "    F = (C * 9/5) + 32\n",
    "    print(F)\n",
    "\n",
    "Fe(C)"
   ]
  },
  {
   "cell_type": "markdown",
   "id": "0e35edef",
   "metadata": {},
   "source": [
    "# task-7"
   ]
  },
  {
   "cell_type": "code",
   "execution_count": 23,
   "id": "3ff536b8",
   "metadata": {},
   "outputs": [
    {
     "data": {
      "text/plain": [
       "0.4"
      ]
     },
     "execution_count": 23,
     "metadata": {},
     "output_type": "execute_result"
    }
   ],
   "source": [
    "x1 = 5\n",
    "x2 = 10\n",
    "y1 = 3\n",
    "y2 = 5\n",
    "\n",
    "slo = (y2-y1)/(x2-x1)\n",
    "slo\n"
   ]
  },
  {
   "cell_type": "markdown",
   "id": "ad54ff7d",
   "metadata": {},
   "source": [
    "## task-8"
   ]
  },
  {
   "cell_type": "code",
   "execution_count": 24,
   "id": "de548da7",
   "metadata": {},
   "outputs": [
    {
     "name": "stdout",
     "output_type": "stream",
     "text": [
      "Enter your height in feet: 5\n",
      "Enter your height in centimeters: 4\n",
      "Your height in meters: 1.525016\n"
     ]
    }
   ],
   "source": [
    "feet = float(input(\"Enter your height in feet: \"))\n",
    "cm = float(input(\"Enter your height in centimeters: \"))\n",
    "\n",
    "inches = feet * 12\n",
    "cm_to_meters = cm / 100\n",
    "\n",
    "height_meters = (inches + cm_to_meters) * 0.0254\n",
    "\n",
    "print(\"Your height in meters:\", height_meters)\n"
   ]
  },
  {
   "cell_type": "markdown",
   "id": "663084ee",
   "metadata": {},
   "source": [
    "### task-9"
   ]
  },
  {
   "cell_type": "code",
   "execution_count": 25,
   "id": "2766a6c8",
   "metadata": {},
   "outputs": [
    {
     "name": "stdout",
     "output_type": "stream",
     "text": [
      "Enter marks for Mathematics: 40\n",
      "Enter marks for Physics: 32\n",
      "Enter marks for Chemistry: 43\n",
      "Enter marks for English: 23\n",
      "Enter marks for Computer Science: 4\n",
      "Subject-wise percentages:\n",
      "Mathematics: 40.0%\n",
      "Physics: 32.0%\n",
      "Chemistry: 43.0%\n",
      "English: 23.0%\n",
      "Computer Science: 4.0%\n",
      "\n",
      "Total marks: 142.0\n",
      "Overall percentage: 28.4%\n"
     ]
    }
   ],
   "source": [
    "subjects = [\"Mathematics\", \"Physics\", \"Chemistry\", \"English\", \"Computer Science\"]\n",
    "marks = []\n",
    "total_marks = 0\n",
    "\n",
    "# Input marks for each subject\n",
    "for subject in subjects:\n",
    "    subject_marks = float(input(\"Enter marks for {}: \".format(subject)))\n",
    "    marks.append(subject_marks)\n",
    "    total_marks += subject_marks\n",
    "\n",
    "# Calculate and display subject-wise percentages\n",
    "print(\"Subject-wise percentages:\")\n",
    "for i in range(len(subjects)):\n",
    "    subject_percentage = (marks[i] / 100) * 100\n",
    "    print(\"{}: {}%\".format(subjects[i], subject_percentage))\n",
    "\n",
    "# Calculate and display total marks and overall percentage\n",
    "overall_percentage = (total_marks / (100 * len(subjects))) * 100\n",
    "print(\"\\nTotal marks:\", total_marks)\n",
    "print(\"Overall percentage: {}%\".format(overall_percentage))\n"
   ]
  }
 ],
 "metadata": {
  "kernelspec": {
   "display_name": "Python 3 (ipykernel)",
   "language": "python",
   "name": "python3"
  },
  "language_info": {
   "codemirror_mode": {
    "name": "ipython",
    "version": 3
   },
   "file_extension": ".py",
   "mimetype": "text/x-python",
   "name": "python",
   "nbconvert_exporter": "python",
   "pygments_lexer": "ipython3",
   "version": "3.10.9"
  }
 },
 "nbformat": 4,
 "nbformat_minor": 5
}
