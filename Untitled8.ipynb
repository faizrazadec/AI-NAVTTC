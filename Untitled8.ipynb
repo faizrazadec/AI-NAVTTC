{
 "cells": [
  {
   "cell_type": "markdown",
   "id": "8271f611",
   "metadata": {},
   "source": [
    "Plot the  Confusion Matrix of the MNIST Data Set \n",
    "Also write Story Telling Telling of the given Data Set"
   ]
  },
  {
   "cell_type": "code",
   "execution_count": 78,
   "id": "6b081afb",
   "metadata": {},
   "outputs": [],
   "source": [
    "import numpy as np\n",
    "import pandas as pd\n",
    "import tensorflow as tf\n",
    "import matplotlib.pyplot as plt\n",
    "from tensorflow.keras import layers\n",
    "from keras.models import Sequential\n",
    "from keras.layers import Dense, Flatten\n",
    "from sklearn.metrics import accuracy_score, classification_report, confusion_matrix, precision_score"
   ]
  },
  {
   "cell_type": "markdown",
   "id": "6186cc67",
   "metadata": {},
   "source": [
    "Loading the MNIST DATASET"
   ]
  },
  {
   "cell_type": "code",
   "execution_count": 79,
   "id": "da65faf6",
   "metadata": {},
   "outputs": [],
   "source": [
    "(x_train, y_train), (x_test, y_test) = tf.keras.datasets.mnist.load_data()"
   ]
  },
  {
   "cell_type": "code",
   "execution_count": 80,
   "id": "79d104f6",
   "metadata": {},
   "outputs": [
    {
     "data": {
      "text/plain": [
       "<matplotlib.image.AxesImage at 0x1da8841e410>"
      ]
     },
     "execution_count": 80,
     "metadata": {},
     "output_type": "execute_result"
    },
    {
     "data": {
      "image/png": "[encoded data removed]",
      "text/plain": [
       "<Figure size 640x480 with 1 Axes>"
      ]
     },
     "metadata": {},
     "output_type": "display_data"
    }
   ],
   "source": [
    "#Visualising the array using plt.imshow() of output example 2917 of the training set\n",
    "plt.imshow(x_train[2917])"
   ]
  },
  {
   "cell_type": "code",
   "execution_count": 81,
   "id": "5c62899c",
   "metadata": {},
   "outputs": [
    {
     "data": {
      "text/plain": [
       "array([  0,   0,   0,   0,   0,   0,   0,   0,   0,   0,   0,   0,   0,\n",
       "         0,   0,   0,  58, 254, 216,  11,   0,   0,   0,   0,   0,   0,\n",
       "         0,   0], dtype=uint8)"
      ]
     },
     "execution_count": 81,
     "metadata": {},
     "output_type": "execute_result"
    }
   ],
   "source": [
    "#output row #10 of example #2917\n",
    "x_train[2917][10]"
   ]
  },
  {
   "cell_type": "code",
   "execution_count": 82,
   "id": "1ec397ff",
   "metadata": {},
   "outputs": [
    {
     "data": {
      "text/plain": [
       "0"
      ]
     },
     "execution_count": 82,
     "metadata": {},
     "output_type": "execute_result"
    }
   ],
   "source": [
    "#output pixel #16 of row #10 of example #2917\n",
    "x_train[2900][10][16]"
   ]
  },
  {
   "cell_type": "markdown",
   "id": "dc3e7319",
   "metadata": {},
   "source": [
    "Normalizing the feature values"
   ]
  },
  {
   "cell_type": "code",
   "execution_count": 83,
   "id": "63d5a334",
   "metadata": {},
   "outputs": [
    {
     "name": "stdout",
     "output_type": "stream",
     "text": [
      "[0.         0.         0.         0.         0.         0.\n",
      " 0.         0.         0.         0.         0.03529412 0.70196078\n",
      " 0.98823529 0.98823529 0.64313725 0.01568627 0.         0.83529412\n",
      " 0.98823529 0.77647059 0.         0.         0.         0.\n",
      " 0.         0.         0.         0.        ]\n"
     ]
    }
   ],
   "source": [
    "x_train_normalize = x_train/255.0\n",
    "x_test_normalize = x_test/255.0\n",
    "print(x_test_normalize[2900][10])"
   ]
  },
  {
   "cell_type": "code",
   "execution_count": 84,
   "id": "04987892",
   "metadata": {},
   "outputs": [
    {
     "name": "stdout",
     "output_type": "stream",
     "text": [
      "Loaded the curve plot function\n"
     ]
    }
   ],
   "source": [
    "def plot_curve(epochs, hist, list_of_metrics):\n",
    "    \"\"\"Ploting a curve of 1 oe more Classification Metrics vs Epochs\"\"\"\n",
    "    \n",
    "    plt.figure()\n",
    "    plt.xlabel('Epoch')\n",
    "    plt.ylabel('value')\n",
    "    \n",
    "    for m in list_of_metrics:\n",
    "        x = hist[m]\n",
    "        plt.plot(epochs[1:], x[1:], label=m)\n",
    "        \n",
    "    plt.legend()\n",
    "    \n",
    "print(\"Loaded the curve plot function\")"
   ]
  },
  {
   "cell_type": "markdown",
   "id": "ba03dd3a",
   "metadata": {},
   "source": [
    "Creating a Deep Neural Net Model"
   ]
  },
  {
   "cell_type": "code",
   "execution_count": 85,
   "id": "8ac60464",
   "metadata": {},
   "outputs": [],
   "source": [
    "def create_model(my_learning_rate):\n",
    "    \n",
    "    #All models will be Sequential\n",
    "    model = tf.keras.models.Sequential()\n",
    "    \n",
    "    #Features are stored in 2D array 28*28\n",
    "    #Flattening the 2D array to 1D array\n",
    "    #784 elements array\n",
    "    model.add(tf.keras.layers.Flatten(input_shape=(28, 28)))\n",
    "    \n",
    "    #Define the 1st hidden layer\n",
    "    model.add(tf.keras.layers.Dense(units=32, activation='relu'))\n",
    "    \n",
    "    #Define a regulization layer\n",
    "    model.add(tf.keras.layers.Dropout(rate=0.2))\n",
    "    \n",
    "    #Defining the output layer of parameter unit 10 because \n",
    "    #the model must choose among 10  possible output values\n",
    "    #( Representing  the  digits  from 0 to 9 ,  inclusive)\n",
    "    model.add(tf.keras.layers.Dense(units=10, activation='softmax'))\n",
    "    \n",
    "    #Construct the layers into a model so tensorflow  can  execute\n",
    "    #Notice that the loss function for multi_class  classification \n",
    "    #is different than the loss function for binary classification \n",
    "    model.compile(optimizer=tf.keras.optimizers.Adam(learning_rate=my_learning_rate),\n",
    "                  loss='sparse_categorical_crossentropy',\n",
    "                  metrics=['accuracy'])\n",
    "    \n",
    "    return model\n",
    "\n",
    "def train_model(model, train_features, train_labels, epochs, batch_size=None, validation_split=0.1):\n",
    "    \"\"\"Train the model by feeding data.\"\"\"\n",
    "    history = model.fit(x=train_features, y=train_labels, epochs=epochs, \n",
    "                        batch_size=batch_size, shuffle=True,  validation_split=validation_split )\n",
    "    \n",
    "    #To track progression of training , gather a snapshot\n",
    "    #of the models metrics at each epoch\n",
    "    epochs = history.epoch\n",
    "    hist = pd.DataFrame(history.history)\n",
    "    \n",
    "    return epochs, hist\n"
   ]
  },
  {
   "cell_type": "code",
   "execution_count": 151,
   "id": "a7be8cd0",
   "metadata": {
    "scrolled": false
   },
   "outputs": [
    {
     "name": "stdout",
     "output_type": "stream",
     "text": [
      "Epoch 1/60\n",
      "16/16 [==============================] - 2s 45ms/step - loss: 1.6257 - accuracy: 0.4934 - val_loss: 0.8106 - val_accuracy: 0.8012\n",
      "Epoch 2/60\n",
      "16/16 [==============================] - 0s 30ms/step - loss: 0.7850 - accuracy: 0.7619 - val_loss: 0.4788 - val_accuracy: 0.8755\n",
      "Epoch 3/60\n",
      "16/16 [==============================] - 0s 27ms/step - loss: 0.5743 - accuracy: 0.8297 - val_loss: 0.3814 - val_accuracy: 0.8958\n",
      "Epoch 4/60\n",
      "16/16 [==============================] - 0s 30ms/step - loss: 0.4898 - accuracy: 0.8554 - val_loss: 0.3349 - val_accuracy: 0.9075\n",
      "Epoch 5/60\n",
      "16/16 [==============================] - 0s 28ms/step - loss: 0.4400 - accuracy: 0.8705 - val_loss: 0.3064 - val_accuracy: 0.9156\n",
      "Epoch 6/60\n",
      "16/16 [==============================] - 0s 30ms/step - loss: 0.4067 - accuracy: 0.8814 - val_loss: 0.2842 - val_accuracy: 0.9218\n",
      "Epoch 7/60\n",
      "16/16 [==============================] - 0s 28ms/step - loss: 0.3806 - accuracy: 0.8895 - val_loss: 0.2674 - val_accuracy: 0.9266\n",
      "Epoch 8/60\n",
      "16/16 [==============================] - 1s 32ms/step - loss: 0.3640 - accuracy: 0.8931 - val_loss: 0.2540 - val_accuracy: 0.9312\n",
      "Epoch 9/60\n",
      "16/16 [==============================] - 1s 33ms/step - loss: 0.3431 - accuracy: 0.9008 - val_loss: 0.2393 - val_accuracy: 0.9343\n",
      "Epoch 10/60\n",
      "16/16 [==============================] - 1s 36ms/step - loss: 0.3276 - accuracy: 0.9040 - val_loss: 0.2309 - val_accuracy: 0.9367\n",
      "Epoch 11/60\n",
      "16/16 [==============================] - 0s 30ms/step - loss: 0.3144 - accuracy: 0.9082 - val_loss: 0.2219 - val_accuracy: 0.9400\n",
      "Epoch 12/60\n",
      "16/16 [==============================] - 0s 30ms/step - loss: 0.3046 - accuracy: 0.9110 - val_loss: 0.2140 - val_accuracy: 0.9419\n",
      "Epoch 13/60\n",
      "16/16 [==============================] - 0s 28ms/step - loss: 0.2924 - accuracy: 0.9145 - val_loss: 0.2068 - val_accuracy: 0.9426\n",
      "Epoch 14/60\n",
      "16/16 [==============================] - 0s 29ms/step - loss: 0.2827 - accuracy: 0.9178 - val_loss: 0.2008 - val_accuracy: 0.9447\n",
      "Epoch 15/60\n",
      "16/16 [==============================] - 0s 27ms/step - loss: 0.2787 - accuracy: 0.9184 - val_loss: 0.1945 - val_accuracy: 0.9459\n",
      "Epoch 16/60\n",
      "16/16 [==============================] - 1s 53ms/step - loss: 0.2710 - accuracy: 0.9201 - val_loss: 0.1907 - val_accuracy: 0.9478\n",
      "Epoch 17/60\n",
      "16/16 [==============================] - 1s 44ms/step - loss: 0.2612 - accuracy: 0.9229 - val_loss: 0.1860 - val_accuracy: 0.9488\n",
      "Epoch 18/60\n",
      "16/16 [==============================] - 1s 43ms/step - loss: 0.2541 - accuracy: 0.9263 - val_loss: 0.1817 - val_accuracy: 0.9503\n",
      "Epoch 19/60\n",
      "16/16 [==============================] - 1s 34ms/step - loss: 0.2551 - accuracy: 0.9255 - val_loss: 0.1813 - val_accuracy: 0.9507\n",
      "Epoch 20/60\n",
      "16/16 [==============================] - 1s 53ms/step - loss: 0.2462 - accuracy: 0.9265 - val_loss: 0.1765 - val_accuracy: 0.9513\n",
      "Epoch 21/60\n",
      "16/16 [==============================] - 1s 58ms/step - loss: 0.2378 - accuracy: 0.9282 - val_loss: 0.1733 - val_accuracy: 0.9510\n",
      "Epoch 22/60\n",
      "16/16 [==============================] - 1s 48ms/step - loss: 0.2378 - accuracy: 0.9281 - val_loss: 0.1713 - val_accuracy: 0.9523\n",
      "Epoch 23/60\n",
      "16/16 [==============================] - 1s 37ms/step - loss: 0.2318 - accuracy: 0.9305 - val_loss: 0.1698 - val_accuracy: 0.9532\n",
      "Epoch 24/60\n",
      "16/16 [==============================] - 1s 32ms/step - loss: 0.2270 - accuracy: 0.9311 - val_loss: 0.1662 - val_accuracy: 0.9538\n",
      "Epoch 25/60\n",
      "16/16 [==============================] - 1s 33ms/step - loss: 0.2233 - accuracy: 0.9334 - val_loss: 0.1650 - val_accuracy: 0.9543\n",
      "Epoch 26/60\n",
      "16/16 [==============================] - 3345s 223s/step - loss: 0.2217 - accuracy: 0.9331 - val_loss: 0.1648 - val_accuracy: 0.9544\n",
      "Epoch 27/60\n",
      "16/16 [==============================] - 1s 35ms/step - loss: 0.2152 - accuracy: 0.9355 - val_loss: 0.1609 - val_accuracy: 0.9541\n",
      "Epoch 28/60\n",
      "16/16 [==============================] - 2s 112ms/step - loss: 0.2125 - accuracy: 0.9362 - val_loss: 0.1592 - val_accuracy: 0.9553\n",
      "Epoch 29/60\n",
      "16/16 [==============================] - 1s 74ms/step - loss: 0.2100 - accuracy: 0.9359 - val_loss: 0.1573 - val_accuracy: 0.9551\n",
      "Epoch 30/60\n",
      "16/16 [==============================] - 1s 50ms/step - loss: 0.2108 - accuracy: 0.9350 - val_loss: 0.1573 - val_accuracy: 0.9550\n",
      "Epoch 31/60\n",
      "16/16 [==============================] - 1s 58ms/step - loss: 0.2062 - accuracy: 0.9370 - val_loss: 0.1561 - val_accuracy: 0.9564\n",
      "Epoch 32/60\n",
      "16/16 [==============================] - 1s 52ms/step - loss: 0.2044 - accuracy: 0.9377 - val_loss: 0.1562 - val_accuracy: 0.9552\n",
      "Epoch 33/60\n",
      "16/16 [==============================] - 1s 52ms/step - loss: 0.1992 - accuracy: 0.9391 - val_loss: 0.1542 - val_accuracy: 0.9562\n",
      "Epoch 34/60\n",
      "16/16 [==============================] - 1s 50ms/step - loss: 0.2001 - accuracy: 0.9394 - val_loss: 0.1529 - val_accuracy: 0.9572\n",
      "Epoch 35/60\n",
      "16/16 [==============================] - 1s 44ms/step - loss: 0.1947 - accuracy: 0.9406 - val_loss: 0.1506 - val_accuracy: 0.9582\n",
      "Epoch 36/60\n",
      "16/16 [==============================] - 1s 58ms/step - loss: 0.1973 - accuracy: 0.9387 - val_loss: 0.1505 - val_accuracy: 0.9578\n",
      "Epoch 37/60\n",
      "16/16 [==============================] - 1s 35ms/step - loss: 0.1945 - accuracy: 0.9402 - val_loss: 0.1505 - val_accuracy: 0.9580\n",
      "Epoch 38/60\n",
      "16/16 [==============================] - 1s 38ms/step - loss: 0.1911 - accuracy: 0.9412 - val_loss: 0.1503 - val_accuracy: 0.9574\n",
      "Epoch 39/60\n",
      "16/16 [==============================] - 1s 32ms/step - loss: 0.1902 - accuracy: 0.9411 - val_loss: 0.1494 - val_accuracy: 0.9567\n",
      "Epoch 40/60\n",
      "16/16 [==============================] - 1s 34ms/step - loss: 0.1861 - accuracy: 0.9424 - val_loss: 0.1488 - val_accuracy: 0.9578\n",
      "Epoch 41/60\n",
      "16/16 [==============================] - 1s 33ms/step - loss: 0.1877 - accuracy: 0.9415 - val_loss: 0.1477 - val_accuracy: 0.9566\n",
      "Epoch 42/60\n",
      "16/16 [==============================] - 1s 32ms/step - loss: 0.1850 - accuracy: 0.9433 - val_loss: 0.1468 - val_accuracy: 0.9580\n",
      "Epoch 43/60\n",
      "16/16 [==============================] - 0s 32ms/step - loss: 0.1825 - accuracy: 0.9437 - val_loss: 0.1455 - val_accuracy: 0.9576\n",
      "Epoch 44/60\n",
      "16/16 [==============================] - 1s 33ms/step - loss: 0.1816 - accuracy: 0.9432 - val_loss: 0.1453 - val_accuracy: 0.9576\n",
      "Epoch 45/60\n",
      "16/16 [==============================] - 0s 31ms/step - loss: 0.1801 - accuracy: 0.9435 - val_loss: 0.1442 - val_accuracy: 0.9589\n",
      "Epoch 46/60\n",
      "16/16 [==============================] - 0s 32ms/step - loss: 0.1798 - accuracy: 0.9439 - val_loss: 0.1447 - val_accuracy: 0.9587\n",
      "Epoch 47/60\n",
      "16/16 [==============================] - 1s 34ms/step - loss: 0.1773 - accuracy: 0.9448 - val_loss: 0.1437 - val_accuracy: 0.9591\n",
      "Epoch 48/60\n",
      "16/16 [==============================] - 1s 33ms/step - loss: 0.1764 - accuracy: 0.9448 - val_loss: 0.1422 - val_accuracy: 0.9597\n",
      "Epoch 49/60\n",
      "16/16 [==============================] - 1s 34ms/step - loss: 0.1763 - accuracy: 0.9454 - val_loss: 0.1432 - val_accuracy: 0.9597\n",
      "Epoch 50/60\n",
      "16/16 [==============================] - 1s 35ms/step - loss: 0.1739 - accuracy: 0.9463 - val_loss: 0.1429 - val_accuracy: 0.9587\n",
      "Epoch 51/60\n",
      "16/16 [==============================] - 1s 34ms/step - loss: 0.1748 - accuracy: 0.9450 - val_loss: 0.1418 - val_accuracy: 0.9595\n",
      "Epoch 52/60\n",
      "16/16 [==============================] - 1s 35ms/step - loss: 0.1708 - accuracy: 0.9463 - val_loss: 0.1423 - val_accuracy: 0.9589\n",
      "Epoch 53/60\n",
      "16/16 [==============================] - 1s 33ms/step - loss: 0.1694 - accuracy: 0.9471 - val_loss: 0.1410 - val_accuracy: 0.9596\n",
      "Epoch 54/60\n",
      "16/16 [==============================] - 0s 31ms/step - loss: 0.1696 - accuracy: 0.9464 - val_loss: 0.1411 - val_accuracy: 0.9592\n",
      "Epoch 55/60\n",
      "16/16 [==============================] - 1s 33ms/step - loss: 0.1666 - accuracy: 0.9473 - val_loss: 0.1395 - val_accuracy: 0.9598\n",
      "Epoch 56/60\n",
      "16/16 [==============================] - 0s 31ms/step - loss: 0.1663 - accuracy: 0.9479 - val_loss: 0.1392 - val_accuracy: 0.9598\n",
      "Epoch 57/60\n",
      "16/16 [==============================] - 1s 33ms/step - loss: 0.1675 - accuracy: 0.9472 - val_loss: 0.1389 - val_accuracy: 0.9582\n",
      "Epoch 58/60\n",
      "16/16 [==============================] - 0s 31ms/step - loss: 0.1623 - accuracy: 0.9483 - val_loss: 0.1379 - val_accuracy: 0.9607\n"
     ]
    },
    {
     "name": "stdout",
     "output_type": "stream",
     "text": [
      "Epoch 59/60\n",
      "16/16 [==============================] - 1s 38ms/step - loss: 0.1632 - accuracy: 0.9490 - val_loss: 0.1379 - val_accuracy: 0.9596\n",
      "Epoch 60/60\n",
      "16/16 [==============================] - 1s 37ms/step - loss: 0.1591 - accuracy: 0.9497 - val_loss: 0.1374 - val_accuracy: 0.9605\n",
      "\n",
      " Evaluate the new model against the test set\n",
      "4/4 [==============================] - 0s 10ms/step - loss: 0.1332 - accuracy: 0.9613\n"
     ]
    },
    {
     "data": {
      "text/plain": [
       "[0.1331625133752823, 0.9613000154495239]"
      ]
     },
     "execution_count": 151,
     "metadata": {},
     "output_type": "execute_result"
    },
    {
     "data": {
      "image/png": "[encoded data removed]",
      "text/plain": [
       "<Figure size 640x480 with 1 Axes>"
      ]
     },
     "metadata": {},
     "output_type": "display_data"
    }
   ],
   "source": [
    "#The following parameters are the hyperparameters\n",
    "learning_rate=0.003\n",
    "epochs=60\n",
    "batch_size=3000\n",
    "validation_split=0.2\n",
    "\n",
    "#Establishing the models topography\n",
    "my_model = create_model(learning_rate)\n",
    "\n",
    "#Train the model on normalized training set\n",
    "epochs, hist = train_model(my_model, x_train_normalize, y_train, epochs, batch_size, validation_split)\n",
    "\n",
    "#Plotting a graph of epochs vs metrics\n",
    "list_of_plot_metrics = ['accuracy']\n",
    "plot_curve(epochs, hist, list_of_plot_metrics)\n",
    "\n",
    "#Evaluate against the test set\n",
    "print(\"\\n Evaluate the new model against the test set\")\n",
    "my_model.evaluate(x=x_test_normalize, y=y_test, batch_size=batch_size)\n"
   ]
  },
  {
   "cell_type": "code",
   "execution_count": 152,
   "id": "24fff734",
   "metadata": {},
   "outputs": [
    {
     "name": "stdout",
     "output_type": "stream",
     "text": [
      "313/313 [==============================] - 1s 3ms/step\n"
     ]
    },
    {
     "data": {
      "text/plain": [
       "array([7, 2, 1, ..., 4, 5, 6], dtype=int64)"
      ]
     },
     "execution_count": 152,
     "metadata": {},
     "output_type": "execute_result"
    }
   ],
   "source": [
    "#predicting the labels\n",
    "y_pred_encoded = my_model.predict(x_test)\n",
    "y_pred = np.argmax(y_pred_encoded, axis=1)\n",
    "y_pred"
   ]
  },
  {
   "cell_type": "code",
   "execution_count": 153,
   "id": "e3cfbd7e",
   "metadata": {},
   "outputs": [
    {
     "name": "stdout",
     "output_type": "stream",
     "text": [
      "Accutacy :  0.9576\n",
      "              precision    recall  f1-score   support\n",
      "\n",
      "           0       0.96      0.98      0.97       980\n",
      "           1       0.98      0.98      0.98      1135\n",
      "           2       0.94      0.96      0.95      1032\n",
      "           3       0.93      0.97      0.95      1010\n",
      "           4       0.98      0.96      0.97       982\n",
      "           5       0.98      0.92      0.95       892\n",
      "           6       0.96      0.96      0.96       958\n",
      "           7       0.98      0.93      0.96      1028\n",
      "           8       0.92      0.95      0.94       974\n",
      "           9       0.96      0.96      0.96      1009\n",
      "\n",
      "    accuracy                           0.96     10000\n",
      "   macro avg       0.96      0.96      0.96     10000\n",
      "weighted avg       0.96      0.96      0.96     10000\n",
      "\n",
      "Confusion Matrix:\n",
      "[[ 963    1    3    1    1    1    5    2    3    0]\n",
      " [   0 1117    5    3    0    0    2    1    7    0]\n",
      " [   6    2  988    8    2    1    7    3   15    0]\n",
      " [   2    0    8  977    0    7    0    4   10    2]\n",
      " [   0    0   10    1  940    0    6    1    5   19]\n",
      " [   5    1    4   27    1  819   11    2   18    4]\n",
      " [  11    4    4    1    6    6  920    0    6    0]\n",
      " [   3    7   25   13    2    0    0  959    4   15]\n",
      " [   4    3    4   12    6    4    5    4  928    4]\n",
      " [   8    5    0   12    6    1    1    2    9  965]]\n"
     ]
    }
   ],
   "source": [
    "#Calculating the Accuracy\n",
    "acc = accuracy_score(y_test, y_pred)\n",
    "print('Accutacy : ', acc)\n",
    "\n",
    "#Classification Report\n",
    "print(classification_report(y_test, y_pred))\n",
    "\n",
    "#Print confusion matrix\n",
    "cm=confusion_matrix(y_test, y_pred)\n",
    "print('Confusion Matrix:')\n",
    "print(cm)"
   ]
  }
 ],
 "metadata": {
  "kernelspec": {
   "display_name": "Python 3 (ipykernel)",
   "language": "python",
   "name": "python3"
  },
  "language_info": {
   "codemirror_mode": {
    "name": "ipython",
    "version": 3
   },
   "file_extension": ".py",
   "mimetype": "text/x-python",
   "name": "python",
   "nbconvert_exporter": "python",
   "pygments_lexer": "ipython3",
   "version": "3.10.9"
  }
 },
 "nbformat": 4,
 "nbformat_minor": 5
}
