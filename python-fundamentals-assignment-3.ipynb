{
 "cells": [
  {
   "cell_type": "markdown",
   "id": "c47dfe73",
   "metadata": {},
   "source": [
    "# task-1"
   ]
  },
  {
   "cell_type": "code",
   "execution_count": 7,
   "id": "f206b66b",
   "metadata": {},
   "outputs": [
    {
     "name": "stdout",
     "output_type": "stream",
     "text": [
      "welcome to the faizi calculator\n",
      "for add, type 1\n",
      "for sub, type 2\n",
      "for mul, type 3\n",
      "for div, type 4\n",
      "selector operatio 1-4: 3\n",
      "enter num1: 3\n",
      "enter num1: 3\n",
      "9\n"
     ]
    }
   ],
   "source": [
    "#Make a calculator Which will base on your result scenario.\n",
    "\n",
    "print(\"welcome to the faizi calculator\")\n",
    "\n",
    "def add(x,y):\n",
    "    print(x+y) \n",
    "\n",
    "def sub(x,y):\n",
    "    print(x-y)\n",
    "\n",
    "def mul(x,y):\n",
    "    print(x*y)\n",
    "\n",
    "def div(x,y):\n",
    "    print(x/y)\n",
    "\n",
    "print(\"for add, type 1\")\n",
    "print(\"for sub, type 2\")\n",
    "print(\"for mul, type 3\")\n",
    "print(\"for div, type 4\")\n",
    "\n",
    "choice = int(input(\"selector operatio 1-4: \"))\n",
    "\n",
    "x = int(input(\"enter num1: \"))\n",
    "y = int(input(\"enter num1: \"))\n",
    "\n",
    "\n",
    "if choice == 1:\n",
    "    add(x,y)\n",
    "elif choice == 2:\n",
    "    sub(x,y)\n",
    "elif choice == 3:\n",
    "    mul(x,y)\n",
    "elif choice == 4:\n",
    "    if x !=0:\n",
    "        div(x,y)\n",
    "    else:\n",
    "        print(\"error\")\n",
    "else:\n",
    "    print(\"invalid choice\")"
   ]
  },
  {
   "cell_type": "markdown",
   "id": "16aac8d2",
   "metadata": {},
   "source": [
    "## task-2"
   ]
  },
  {
   "cell_type": "code",
   "execution_count": 8,
   "id": "941d5a8d",
   "metadata": {},
   "outputs": [
    {
     "name": "stdout",
     "output_type": "stream",
     "text": [
      "Enter value: 2\n",
      "2\n"
     ]
    }
   ],
   "source": [
    "val = input(\"Enter value: \")\n",
    "print(val)\n"
   ]
  },
  {
   "cell_type": "markdown",
   "id": "6ce6e363",
   "metadata": {},
   "source": [
    "### task-3"
   ]
  },
  {
   "cell_type": "code",
   "execution_count": 13,
   "id": "89d9baf0",
   "metadata": {},
   "outputs": [
    {
     "name": "stdout",
     "output_type": "stream",
     "text": [
      "Enter the number of subjects: 2\n",
      "Enter marks for subject 1: 1\n",
      "Enter marks for subject 2: 1\n"
     ]
    },
    {
     "data": {
      "text/plain": [
       "2.0"
      ]
     },
     "execution_count": 13,
     "metadata": {},
     "output_type": "execute_result"
    }
   ],
   "source": [
    "subjects = int(input(\"Enter the number of subjects: \"))\n",
    "summ = 0\n",
    "\n",
    "for subject in range(subjects):\n",
    "    marks = float(input(\"Enter marks for subject {}: \".format(subject+1)))\n",
    "    summ += marks\n",
    "summ"
   ]
  },
  {
   "cell_type": "markdown",
   "id": "19d30148",
   "metadata": {},
   "source": [
    "# task-4"
   ]
  },
  {
   "cell_type": "code",
   "execution_count": 14,
   "id": "95ae058d",
   "metadata": {},
   "outputs": [
    {
     "name": "stdout",
     "output_type": "stream",
     "text": [
      "enter the total subjects: 2\n",
      "enter the marks of subject 1: 23\n",
      "enter the marks of subject 2: 43\n"
     ]
    },
    {
     "data": {
      "text/plain": [
       "21.5"
      ]
     },
     "execution_count": 14,
     "metadata": {},
     "output_type": "execute_result"
    }
   ],
   "source": [
    "subjects = int(input(\"enter the total subjects: \"))\n",
    "summ = 0\n",
    "\n",
    "for subject in range (subjects):\n",
    "    marks = float(input(\"enter the marks of subject {}: \".format(subject+1)))\n",
    "    summ +=marks\n",
    "average = marks/subjects\n",
    "average"
   ]
  },
  {
   "cell_type": "markdown",
   "id": "8565e654",
   "metadata": {},
   "source": [
    "## task-5"
   ]
  },
  {
   "cell_type": "code",
   "execution_count": 17,
   "id": "ff9d5fe2",
   "metadata": {},
   "outputs": [
    {
     "name": "stdout",
     "output_type": "stream",
     "text": [
      "enter the total subjects: 3\n",
      "enter the marks of subject 1: 23\n",
      "23.0 %\n",
      "enter the marks of subject 2: 43\n",
      "43.0 %\n",
      "enter the marks of subject 3: 53\n",
      "53.0 %\n"
     ]
    }
   ],
   "source": [
    "subjects = int(input(\"enter the total subjects: \"))\n",
    "summ = 0\n",
    "tot = 100\n",
    "for subject in range (subjects):\n",
    "    marks = float(input(\"enter the marks of subject {}: \".format(subject+1)))\n",
    "    per = (marks/tot)*100\n",
    "    print(per, '%')"
   ]
  },
  {
   "cell_type": "code",
   "execution_count": null,
   "id": "61256b9e",
   "metadata": {},
   "outputs": [],
   "source": []
  }
 ],
 "metadata": {
  "kernelspec": {
   "display_name": "Python 3 (ipykernel)",
   "language": "python",
   "name": "python3"
  },
  "language_info": {
   "codemirror_mode": {
    "name": "ipython",
    "version": 3
   },
   "file_extension": ".py",
   "mimetype": "text/x-python",
   "name": "python",
   "nbconvert_exporter": "python",
   "pygments_lexer": "ipython3",
   "version": "3.10.9"
  }
 },
 "nbformat": 4,
 "nbformat_minor": 5
}
