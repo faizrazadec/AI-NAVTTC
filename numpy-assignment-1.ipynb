{
 "cells": [
  {
   "cell_type": "code",
   "execution_count": 1,
   "id": "189c3fe2",
   "metadata": {},
   "outputs": [],
   "source": [
    "import numpy as np\n"
   ]
  },
  {
   "cell_type": "markdown",
   "id": "e609ed9f",
   "metadata": {},
   "source": [
    "# task-2"
   ]
  },
  {
   "cell_type": "code",
   "execution_count": 2,
   "id": "776d22d8",
   "metadata": {},
   "outputs": [
    {
     "name": "stdout",
     "output_type": "stream",
     "text": [
      "welcome to the faizi calculator\n",
      "for add, type 1\n",
      "for sub, type 2\n",
      "for mul, type 3\n",
      "for div, type 4\n",
      "selector operatio 1-4: 2\n",
      "enter num1: 34\n",
      "enter num1: 32\n",
      "2\n"
     ]
    }
   ],
   "source": [
    "#Make a calculator Which will base on your result scenario.\n",
    "\n",
    "print(\"welcome to the faizi calculator\")\n",
    "\n",
    "def add(x,y):\n",
    "    print(x+y) \n",
    "\n",
    "def sub(x,y):\n",
    "    print(x-y)\n",
    "\n",
    "def mul(x,y):\n",
    "    print(x*y)\n",
    "\n",
    "def div(x,y):\n",
    "    print(x/y)\n",
    "\n",
    "print(\"for add, type 1\")\n",
    "print(\"for sub, type 2\")\n",
    "print(\"for mul, type 3\")\n",
    "print(\"for div, type 4\")\n",
    "\n",
    "choice = int(input(\"selector operatio 1-4: \"))\n",
    "\n",
    "x = int(input(\"enter num1: \"))\n",
    "y = int(input(\"enter num1: \"))\n",
    "\n",
    "\n",
    "if choice == 1:\n",
    "    add(x,y)\n",
    "elif choice == 2:\n",
    "    sub(x,y)\n",
    "elif choice == 3:\n",
    "    mul(x,y)\n",
    "elif choice == 4:\n",
    "    if x !=0:\n",
    "        div(x,y)\n",
    "    else:\n",
    "        print(\"error\")\n",
    "else:\n",
    "    print(\"invalid choice\")\n",
    "    "
   ]
  },
  {
   "cell_type": "markdown",
   "id": "3a75fd37",
   "metadata": {},
   "source": [
    "## task-2"
   ]
  },
  {
   "cell_type": "code",
   "execution_count": 5,
   "id": "d6c7a3b6",
   "metadata": {},
   "outputs": [
    {
     "name": "stdout",
     "output_type": "stream",
     "text": [
      "[-6.585786437626905, -14.0, -21.550510257216825, -29.17157287525381, -36.83772233983162]\n"
     ]
    }
   ],
   "source": [
    "import math\n",
    "\n",
    "def func(lst):\n",
    "    return [x * (math.sqrt(x) - 4 * x)/x for x in lst]\n",
    "\n",
    "# Example usage:\n",
    "my_list = [2, 4, 6, 8, 10]\n",
    "result = func(my_list)\n",
    "print(result)\n"
   ]
  },
  {
   "cell_type": "markdown",
   "id": "1e927afe",
   "metadata": {},
   "source": [
    "### task-3"
   ]
  },
  {
   "cell_type": "code",
   "execution_count": 6,
   "id": "3b3a0a7b",
   "metadata": {},
   "outputs": [
    {
     "name": "stdout",
     "output_type": "stream",
     "text": [
      "Original Array: [1 2 3 4 5]\n",
      "Addition: [3 4 5 6 7]\n",
      "Subtraction: [-1  0  1  2  3]\n",
      "Multiplication: [ 2  4  6  8 10]\n",
      "Division: [0.5 1.  1.5 2.  2.5]\n",
      "Power: [ 1  4  9 16 25]\n",
      "Negative: [-1 -2 -3 -4 -5]\n"
     ]
    }
   ],
   "source": [
    "import numpy as np\n",
    "\n",
    "# Create a NumPy array\n",
    "arr = np.array([1, 2, 3, 4, 5])\n",
    "\n",
    "# Apply arithmetic functions on the NumPy array\n",
    "add_result = np.add(arr, 2)\n",
    "subtract_result = np.subtract(arr, 2)\n",
    "multiply_result = np.multiply(arr, 2)\n",
    "divide_result = np.divide(arr, 2)\n",
    "power_result = np.power(arr, 2)\n",
    "negative_result = np.negative(arr)\n",
    "\n",
    "# Print the results\n",
    "print(\"Original Array:\", arr)\n",
    "print(\"Addition:\", add_result)\n",
    "print(\"Subtraction:\", subtract_result)\n",
    "print(\"Multiplication:\", multiply_result)\n",
    "print(\"Division:\", divide_result)\n",
    "print(\"Power:\", power_result)\n",
    "print(\"Negative:\", negative_result)\n"
   ]
  },
  {
   "cell_type": "markdown",
   "id": "bf9c4c4e",
   "metadata": {},
   "source": [
    "# task-4"
   ]
  },
  {
   "cell_type": "code",
   "execution_count": 7,
   "id": "29443c2d",
   "metadata": {},
   "outputs": [
    {
     "name": "stdout",
     "output_type": "stream",
     "text": [
      "Array 1: [1 2 3 4 5]\n",
      "Array 2: [[0. 0. 0. 0.]\n",
      " [0. 0. 0. 0.]\n",
      " [0. 0. 0. 0.]]\n",
      "Array 3: [[[1. 1.]\n",
      "  [1. 1.]\n",
      "  [1. 1.]]\n",
      "\n",
      " [[1. 1.]\n",
      "  [1. 1.]\n",
      "  [1. 1.]]]\n",
      "Array 4: [0 2 4 6 8]\n",
      "Array 5: [[0.98012254 0.44378531]\n",
      " [0.71193471 0.72324217]]\n",
      "Array 6: [0.   0.25 0.5  0.75 1.  ]\n",
      "Array 7: [[1. 0. 0.]\n",
      " [0. 1. 0.]\n",
      " [0. 0. 1.]]\n",
      "Array 8: [3 3 3 3]\n"
     ]
    }
   ],
   "source": [
    "import numpy as np\n",
    "\n",
    "# Creating an array from a list\n",
    "my_list = [1, 2, 3, 4, 5]\n",
    "arr1 = np.array(my_list)\n",
    "\n",
    "# Creating an array filled with zeros\n",
    "arr2 = np.zeros((3, 4))\n",
    "\n",
    "# Creating an array filled with ones\n",
    "arr3 = np.ones((2, 3, 2))\n",
    "\n",
    "# Creating an array with a range of values\n",
    "arr4 = np.arange(0, 10, 2)\n",
    "\n",
    "# Creating an array with random values\n",
    "arr5 = np.random.rand(2, 2)\n",
    "\n",
    "# Creating an array using linspace\n",
    "arr6 = np.linspace(0, 1, 5)\n",
    "\n",
    "# Creating an identity matrix\n",
    "arr7 = np.eye(3)\n",
    "\n",
    "# Creating an array with repeated values\n",
    "arr8 = np.repeat(3, 4)\n",
    "\n",
    "# Printing all arrays\n",
    "print(\"Array 1:\", arr1)\n",
    "print(\"Array 2:\", arr2)\n",
    "print(\"Array 3:\", arr3)\n",
    "print(\"Array 4:\", arr4)\n",
    "print(\"Array 5:\", arr5)\n",
    "print(\"Array 6:\", arr6)\n",
    "print(\"Array 7:\", arr7)\n",
    "print(\"Array 8:\", arr8)\n"
   ]
  },
  {
   "cell_type": "markdown",
   "id": "ca827b2c",
   "metadata": {},
   "source": [
    "## task-5"
   ]
  },
  {
   "cell_type": "code",
   "execution_count": 9,
   "id": "c4e22a18",
   "metadata": {},
   "outputs": [
    {
     "name": "stdout",
     "output_type": "stream",
     "text": [
      "Single element at (0, 1): 2\n",
      "Row at index 2: [7 8 9]\n",
      "Column at index 1: [2 5 8]\n",
      "Subarray from rows 0 to 1 and columns 1 to 2:\n",
      "[[2 3]\n",
      " [5 6]]\n",
      "Subarray excluding the last row and last column:\n",
      "[[1 2]\n",
      " [4 5]]\n",
      "Every other element in the last column:\n",
      "[3 9]\n"
     ]
    }
   ],
   "source": [
    "import numpy as np\n",
    "\n",
    "# Create a 2D array\n",
    "arr = np.array([[1, 2, 3],\n",
    "                [4, 5, 6],\n",
    "                [7, 8, 9]])\n",
    "\n",
    "# Indexing\n",
    "print(\"Single element at (0, 1):\", arr[0, 1])\n",
    "print(\"Row at index 2:\", arr[2])\n",
    "print(\"Column at index 1:\", arr[:, 1])\n",
    "# Slicing\n",
    "print(\"Subarray from rows 0 to 1 and columns 1 to 2:\")\n",
    "print(arr[0:2, 1:3])\n",
    "\n",
    "print(\"Subarray excluding the last row and last column:\")\n",
    "print(arr[:-1, :-1])\n",
    "\n",
    "print(\"Every other element in the last column:\")\n",
    "print(arr[::2, -1])\n"
   ]
  },
  {
   "cell_type": "code",
   "execution_count": null,
   "id": "00d73350",
   "metadata": {},
   "outputs": [],
   "source": []
  }
 ],
 "metadata": {
  "kernelspec": {
   "display_name": "Python 3 (ipykernel)",
   "language": "python",
   "name": "python3"
  },
  "language_info": {
   "codemirror_mode": {
    "name": "ipython",
    "version": 3
   },
   "file_extension": ".py",
   "mimetype": "text/x-python",
   "name": "python",
   "nbconvert_exporter": "python",
   "pygments_lexer": "ipython3",
   "version": "3.10.9"
  }
 },
 "nbformat": 4,
 "nbformat_minor": 5
}
