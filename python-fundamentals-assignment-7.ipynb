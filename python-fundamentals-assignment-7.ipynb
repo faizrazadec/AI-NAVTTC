{
 "cells": [
  {
   "cell_type": "markdown",
   "id": "a6b095fe",
   "metadata": {},
   "source": [
    "# task-1"
   ]
  },
  {
   "cell_type": "code",
   "execution_count": 1,
   "id": "1242a5a8",
   "metadata": {},
   "outputs": [
    {
     "name": "stdout",
     "output_type": "stream",
     "text": [
      "0\n",
      "1\n",
      "3\n",
      "4\n",
      "5\n",
      "6\n",
      "7\n",
      "9\n",
      "10\n"
     ]
    }
   ],
   "source": [
    "for num in range(11):\n",
    "    if num != 2 and num != 8:\n",
    "        print(num)\n"
   ]
  },
  {
   "cell_type": "markdown",
   "id": "51843b0e",
   "metadata": {},
   "source": [
    "## task-2"
   ]
  },
  {
   "cell_type": "code",
   "execution_count": 5,
   "id": "10ad0218",
   "metadata": {},
   "outputs": [
    {
     "name": "stdout",
     "output_type": "stream",
     "text": [
      "7 * 1 = 7\n",
      "7 * 2 = 14\n",
      "7 * 3 = 21\n",
      "7 * 4 = 28\n",
      "7 * 5 = 35\n",
      "7 * 6 = 42\n",
      "7 * 7 = 49\n",
      "7 * 8 = 56\n",
      "7 * 9 = 63\n",
      "7 * 10 = 70\n"
     ]
    }
   ],
   "source": [
    "number = 7\n",
    "\n",
    "for i in range(1, 11):\n",
    "    result = number * i\n",
    "    print(\"{} * {} = {}\".format(number, i, result))\n"
   ]
  },
  {
   "cell_type": "markdown",
   "id": "e1f046f1",
   "metadata": {},
   "source": [
    "### task-3"
   ]
  },
  {
   "cell_type": "code",
   "execution_count": 6,
   "id": "d05be4c1",
   "metadata": {},
   "outputs": [
    {
     "name": "stdout",
     "output_type": "stream",
     "text": [
      "* \n",
      "* * \n",
      "* * * \n",
      "* * * * \n",
      "* * * * * \n",
      "* * * * \n",
      "* * * \n",
      "* * \n",
      "* \n"
     ]
    }
   ],
   "source": [
    "rows = 5\n",
    "\n",
    "for i in range(1, rows*2):\n",
    "    if i <= rows:\n",
    "        for j in range(1, i+1):\n",
    "            print(\"*\", end=\" \")\n",
    "    else:\n",
    "        for j in range(1, (rows*2)-i+1):\n",
    "            print(\"*\", end=\" \")\n",
    "    print()\n"
   ]
  },
  {
   "cell_type": "markdown",
   "id": "f89c1978",
   "metadata": {},
   "source": [
    "# task-4"
   ]
  },
  {
   "cell_type": "code",
   "execution_count": 13,
   "id": "fa807935",
   "metadata": {},
   "outputs": [
    {
     "name": "stdout",
     "output_type": "stream",
     "text": [
      "Enter number 1: 1\n",
      "Enter number 2: 2\n",
      "Enter number 3: 3\n",
      "Enter number 4: 44\n",
      "Enter number 5: 55\n",
      "Enter number 6: 66\n",
      "Enter number 7: 2\n",
      "Enter number 8: 3\n",
      "Enter number 9: 4\n",
      "Enter number 10: 5\n",
      "Numbers entered by the user: [1, 2, 3, 44, 55, 66, 2, 3, 4, 5]\n",
      "Max number:  66\n"
     ]
    }
   ],
   "source": [
    "numbers = []\n",
    "\n",
    "for i in range(10):\n",
    "    number = int(input(\"Enter number {}: \".format(i+1)))\n",
    "    numbers.append(number)\n",
    "\n",
    "print(\"Numbers entered by the user:\", numbers)\n",
    "\n",
    "print(\"Max number: \", max(numbers))"
   ]
  },
  {
   "cell_type": "markdown",
   "id": "edb294d3",
   "metadata": {},
   "source": [
    "## task-5"
   ]
  },
  {
   "cell_type": "code",
   "execution_count": 14,
   "id": "45775dba",
   "metadata": {},
   "outputs": [
    {
     "name": "stdout",
     "output_type": "stream",
     "text": [
      "Enter number 1: 1\n",
      "Enter number 2: 2\n",
      "Enter number 3: 3\n",
      "Enter number 4: 4\n",
      "Enter number 5: 5\n",
      "Enter number 6: 4\n",
      "Enter number 7: 3\n",
      "Enter number 8: 2\n",
      "Enter number 9: 1\n",
      "Enter number 10: 2\n",
      "Numbers entered by the user: [1, 2, 3, 4, 5, 4, 3, 2, 1, 2]\n",
      "Max number:  27\n"
     ]
    }
   ],
   "source": [
    "numbers = []\n",
    "\n",
    "for i in range(10):\n",
    "    number = int(input(\"Enter number {}: \".format(i+1)))\n",
    "    numbers.append(number)\n",
    "\n",
    "print(\"Numbers entered by the user:\", numbers)\n",
    "\n",
    "#add = sum(numbers)\n",
    "\n",
    "print(\"Max number: \", sum(numbers))"
   ]
  },
  {
   "cell_type": "code",
   "execution_count": null,
   "id": "aa1f3e4d",
   "metadata": {},
   "outputs": [],
   "source": []
  }
 ],
 "metadata": {
  "kernelspec": {
   "display_name": "Python 3 (ipykernel)",
   "language": "python",
   "name": "python3"
  },
  "language_info": {
   "codemirror_mode": {
    "name": "ipython",
    "version": 3
   },
   "file_extension": ".py",
   "mimetype": "text/x-python",
   "name": "python",
   "nbconvert_exporter": "python",
   "pygments_lexer": "ipython3",
   "version": "3.10.9"
  }
 },
 "nbformat": 4,
 "nbformat_minor": 5
}
