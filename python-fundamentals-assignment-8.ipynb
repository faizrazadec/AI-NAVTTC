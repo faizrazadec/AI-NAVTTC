{
 "cells": [
  {
   "cell_type": "markdown",
   "id": "25bd01b7",
   "metadata": {},
   "source": [
    "# task-1"
   ]
  },
  {
   "cell_type": "code",
   "execution_count": 3,
   "id": "bdcfa4e7",
   "metadata": {},
   "outputs": [
    {
     "name": "stdout",
     "output_type": "stream",
     "text": [
      "Even numbers: [2, 8, 12, 20]\n",
      "Odd numbers: [5, 11, 17]\n",
      "Prime numbers: [2, 5, 11, 17]\n"
     ]
    }
   ],
   "source": [
    "def count_numbers(numbers):\n",
    "    count_even = []\n",
    "    count_odd = []\n",
    "    count_prime = []\n",
    "\n",
    "    for num in numbers:\n",
    "        if num % 2 == 0:\n",
    "            count_even.append(num)\n",
    "        else:\n",
    "            count_odd.append(num)\n",
    "\n",
    "        if num > 1:\n",
    "            is_prime = True\n",
    "            for i in range(2, int(num**0.5) + 1):\n",
    "                if num % i == 0:\n",
    "                    is_prime = False\n",
    "                    break\n",
    "            if is_prime:\n",
    "                count_prime.append(num)\n",
    "\n",
    "    return count_even, count_odd, count_prime\n",
    "\n",
    "\n",
    "# Example usage\n",
    "num_list = [2, 5, 8, 11, 12, 17, 20]\n",
    "even_count, odd_count, prime_count = count_numbers(num_list)\n",
    "\n",
    "print(\"Even numbers:\", even_count)\n",
    "print(\"Odd numbers:\", odd_count)\n",
    "print(\"Prime numbers:\", prime_count)\n"
   ]
  },
  {
   "cell_type": "markdown",
   "id": "b994ab84",
   "metadata": {},
   "source": [
    "## task-2"
   ]
  },
  {
   "cell_type": "code",
   "execution_count": 5,
   "id": "b768e23a",
   "metadata": {},
   "outputs": [
    {
     "name": "stdout",
     "output_type": "stream",
     "text": [
      "['Jamal', 'Hamza', 'Ali'] ['c', 'P']\n"
     ]
    }
   ],
   "source": [
    "listt = [\"Jamal\", \"Hamza\",\"Ali\",\"c\", \"P\"]\n",
    "name= []\n",
    "char = []\n",
    "for i in listt:\n",
    "    if i in \"Jamal, Hamza, Ali\":\n",
    "        name.append(i)\n",
    "    elif i in \"c,P\":\n",
    "        char.append(i)\n",
    "print(name,char)"
   ]
  },
  {
   "cell_type": "markdown",
   "id": "ec17f08d",
   "metadata": {},
   "source": [
    "### task-3"
   ]
  },
  {
   "cell_type": "code",
   "execution_count": 17,
   "id": "f84a0a86",
   "metadata": {},
   "outputs": [
    {
     "data": {
      "text/plain": [
       "['int', 'int', 'int', 'int', 'int', 'int', 'int', 'str', 'str', 'str', 'str']"
      ]
     },
     "execution_count": 17,
     "metadata": {},
     "output_type": "execute_result"
    }
   ],
   "source": [
    "List1= [5,9,8,6,0,2,2,'a','b','c','Jamal']\n",
    "List2 = []\n",
    "for i in List1:\n",
    "    data_type = type(i).__name__\n",
    "    List2.append(data_type)\n",
    "List2\n"
   ]
  },
  {
   "cell_type": "markdown",
   "id": "3ecd61ae",
   "metadata": {},
   "source": [
    "# task-4"
   ]
  },
  {
   "cell_type": "code",
   "execution_count": 18,
   "id": "27e3b050",
   "metadata": {},
   "outputs": [
    {
     "name": "stdout",
     "output_type": "stream",
     "text": [
      "List: [1, nan, 4, 5, 6, 0, 6, 7]\n",
      "Most Repeating Values: [6]\n",
      "NaN Values: [nan]\n",
      "Highest Value: 7\n",
      "Prime Numbers: [5, 7]\n"
     ]
    }
   ],
   "source": [
    "def analyze_list(lst):\n",
    "    # Most repeating values\n",
    "    count = {}\n",
    "    most_repeating = []\n",
    "\n",
    "    for value in lst:\n",
    "        if value in count:\n",
    "            count[value] += 1\n",
    "        else:\n",
    "            count[value] = 1\n",
    "\n",
    "    max_count = max(count.values())\n",
    "    most_repeating = [value for value, freq in count.items() if freq == max_count]\n",
    "\n",
    "    # NaN values\n",
    "    nan_values = [value for value in lst if isinstance(value, float) and value != value]\n",
    "\n",
    "    # Highest value\n",
    "    highest_value = max(lst)\n",
    "\n",
    "    # Prime numbers\n",
    "    def is_prime(n):\n",
    "        if n < 2:\n",
    "            return False\n",
    "        for i in range(2, int(n ** 0.5) + 1):\n",
    "            if n % i == 0:\n",
    "                return False\n",
    "        return True\n",
    "\n",
    "    prime_numbers = [value for value in lst if isinstance(value, int) and is_prime(value)]\n",
    "\n",
    "    return most_repeating, nan_values, highest_value, prime_numbers\n",
    "\n",
    "\n",
    "# Example usage\n",
    "List = [1, float(\"nan\"), 4, 5, 6, 0, 6, 7]\n",
    "most_repeating_values, nan_values, highest_value, prime_numbers = analyze_list(List)\n",
    "\n",
    "print(\"List:\", List)\n",
    "print(\"Most Repeating Values:\", most_repeating_values)\n",
    "print(\"NaN Values:\", nan_values)\n",
    "print(\"Highest Value:\", highest_value)\n",
    "print(\"Prime Numbers:\", prime_numbers)\n"
   ]
  },
  {
   "cell_type": "markdown",
   "id": "0b66c7ce",
   "metadata": {},
   "source": [
    "## task-5"
   ]
  },
  {
   "cell_type": "code",
   "execution_count": 20,
   "id": "af8e1761",
   "metadata": {},
   "outputs": [
    {
     "name": "stdout",
     "output_type": "stream",
     "text": [
      "List: [8, 10, 'a', 'b', 's', 'f', 99, 'fine', 'Education', 6, 53, 'Pass']\n",
      "Numeric Values: [8, 10, 99, 6, 53]\n",
      "Character Values: ['a', 'b', 's', 'f']\n",
      "String Values: ['a', 'b', 's', 'f', 'fine', 'Education', 'Pass']\n"
     ]
    }
   ],
   "source": [
    "def analyze_list(lst):\n",
    "    numeric_values = [value for value in lst if isinstance(value, (int, float))]\n",
    "    character_values = [value for value in lst if isinstance(value, str) and len(value) == 1]\n",
    "    string_values = [value for value in lst if isinstance(value, str)]\n",
    "\n",
    "    return numeric_values, character_values, string_values\n",
    "\n",
    "\n",
    "# Example usage\n",
    "List = [8, 10, 'a', 'b', 's', 'f', 99, 'fine', 'Education', 6, 53, 'Pass']\n",
    "numeric_values, character_values, string_values = analyze_list(List)\n",
    "\n",
    "print(\"List:\", List)\n",
    "print(\"Numeric Values:\", numeric_values)\n",
    "print(\"Character Values:\", character_values)\n",
    "print(\"String Values:\", string_values)\n"
   ]
  },
  {
   "cell_type": "code",
   "execution_count": null,
   "id": "5b40b9a7",
   "metadata": {},
   "outputs": [],
   "source": []
  }
 ],
 "metadata": {
  "kernelspec": {
   "display_name": "Python 3 (ipykernel)",
   "language": "python",
   "name": "python3"
  },
  "language_info": {
   "codemirror_mode": {
    "name": "ipython",
    "version": 3
   },
   "file_extension": ".py",
   "mimetype": "text/x-python",
   "name": "python",
   "nbconvert_exporter": "python",
   "pygments_lexer": "ipython3",
   "version": "3.10.9"
  }
 },
 "nbformat": 4,
 "nbformat_minor": 5
}
