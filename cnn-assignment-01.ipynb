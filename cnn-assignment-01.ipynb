{
 "cells": [
  {
   "cell_type": "code",
   "execution_count": 1,
   "id": "98f2ff55",
   "metadata": {},
   "outputs": [],
   "source": [
    "import numpy as np\n",
    "import pandas as pd\n",
    "import tensorflow as tf\n",
    "from tensorflow.keras import layers\n",
    "from matplotlib import pyplot as plt\n",
    "\n",
    "# The following lines adjust the granularity of reporting. \n",
    "pd.options.display.max_rows = 10\n",
    "pd.options.display.float_format = \"{:.1f}\".format\n",
    "\n",
    "# The following line improves formatting when ouputting NumPy arrays.\n",
    "np.set_printoptions(linewidth = 200)"
   ]
  },
  {
   "cell_type": "code",
   "execution_count": 2,
   "id": "2f463e83",
   "metadata": {},
   "outputs": [
    {
     "name": "stdout",
     "output_type": "stream",
     "text": [
      "Downloading data from https://storage.googleapis.com/tensorflow/tf-keras-datasets/mnist.npz\n",
      "11490434/11490434 [==============================] - 6s 1us/step\n"
     ]
    }
   ],
   "source": [
    "(x_train, y_train),(x_test, y_test) = tf.keras.datasets.mnist.load_data()"
   ]
  },
  {
   "cell_type": "code",
   "execution_count": 3,
   "id": "f6d03480",
   "metadata": {},
   "outputs": [
    {
     "data": {
      "text/plain": [
       "array([[  0,   0,   0,   0,   0,   0,   0,   0,   0,   0,   0,   0,   0,   0,   0,   0,   0,   0,   0,   0,   0,   0,   0,   0,   0,   0,   0,   0],\n",
       "       [  0,   0,   0,   0,   0,   0,   0,   0,   0,   0,   0,   0,   0,   0,   0,   0,   0,   0,   0,   0,   0,   0,   0,   0,   0,   0,   0,   0],\n",
       "       [  0,   0,   0,   0,   0,   0,   0,   0,   0,   0,   0,   0,   0,   0,   0,   0,   0,   0,   0,   0,   0,   0,   0,   0,   0,   0,   0,   0],\n",
       "       [  0,   0,   0,   0,   0,   0,   0,   0,   0,   0,   0,   0,   0,   0,   0,   0,   0,   0,   0,   0,   0,   0,   0,   0,   0,   0,   0,   0],\n",
       "       [  0,   0,   0,   0,   0,   0,   0,   0,   0,   0,   0,   0,   0,   0,   0,   0,   0,   0,   0,   0,   0,   0,   0,   0,   0,   0,   0,   0],\n",
       "       [  0,   0,   0,   0,   0,   0,   0,   0,   0,   0,   0,   0,   0,   0,   0,   0,   0,   0,   0,   0,   0,   0,   0,   0,   0,   0,   0,   0],\n",
       "       [  0,   0,   0,   0,   0,   0,   0,   0, 127, 100, 156, 239, 224, 177, 213, 159,  70,  13,   0,   0,   0,   0,   0,   0,   0,   0,   0,   0],\n",
       "       [  0,   0,   0,   0,   0,   0,   0, 110, 250, 254, 254, 254, 254, 254, 254, 254, 254, 184,  10,   0,   0,   0,   0,   0,   0,   0,   0,   0],\n",
       "       [  0,   0,   0,   0,   0,   0,   0, 216, 254, 254, 254, 254, 254, 254, 254, 254, 254, 251,  54,   0,   0,   0,   0,   0,   0,   0,   0,   0],\n",
       "       [  0,   0,   0,   0,   0,   0,   0,   3, 131, 197,  68, 137, 101,  83,  41,  70, 221, 254, 108,   0,   0,   0,   0,   0,   0,   0,   0,   0],\n",
       "       [  0,   0,   0,   0,   0,   0,   0,   0,   0,   0,   0,   0,   0,   0,   0,   0,  58, 254, 216,  11,   0,   0,   0,   0,   0,   0,   0,   0],\n",
       "       [  0,   0,   0,   0,   0,   0,   0,   0,   0,   0,   0,   0,   0,   0,   0,   0, 110, 254, 254,  24,   0,   0,   0,   0,   0,   0,   0,   0],\n",
       "       [  0,   0,   0,   0,   0,   0,   0,   0,   0,   0,   0,   0,   0,   0,   4,  83, 247, 254, 192,  10,   0,   0,   0,   0,   0,   0,   0,   0],\n",
       "       [  0,   0,   0,   0,   0,   0,   0,   0,   0,   0,   0,   0,   0,  37, 124, 254, 254, 250,  47,   0,   0,   0,   0,   0,   0,   0,   0,   0],\n",
       "       [  0,   0,   0,   0,   0,   0,   0,   0,   0,   0,   0, 113, 178, 250, 254, 254, 254, 252, 178, 128,  50,   0,   0,   0,   0,   0,   0,   0],\n",
       "       [  0,   0,   0,   0,   0,   0,   0,   0,   0,   0,  69, 252, 254, 254, 254, 254, 254, 254, 254, 254, 153,   0,   0,   0,   0,   0,   0,   0],\n",
       "       [  0,   0,   0,   0,   0,   0,   0,   0,   0,   0, 141, 252, 254, 241, 241, 254, 247, 252, 254, 254, 153,   0,   0,   0,   0,   0,   0,   0],\n",
       "       [  0,   0,   0,   0,   0,   0,   0,   0,   0,   0,   0,  68,  82,   5,   5,  82,  37,  65, 167, 254, 190,   0,   0,   0,   0,   0,   0,   0],\n",
       "       [  0,   0,   0,   0,   0,   0,   0,   0,   0,   0,   0,   0,   0,   0,   0,   0,   0,   0, 162, 254, 153,   0,   0,   0,   0,   0,   0,   0],\n",
       "       [  0,   0,   0,   0,   0,   0,   0,   0,   0,   0,   0,   0,   0,   0,   0,   0,   0,   1, 172, 253,  75,   0,   0,   0,   0,   0,   0,   0],\n",
       "       [  0,   0,   0,   0,   0,   0,   0,   0,   0,   0,   0,   0,   0,   0,   0,   0,   0, 102, 254, 152,   0,   0,   0,   0,   0,   0,   0,   0],\n",
       "       [  0,   0,   0,   0,   0,   0,   0,   0,   0,   0,   0,   0,   0,   0,   0,   0,  38, 230, 216,  20,   0,   0,   0,   0,   0,   0,   0,   0],\n",
       "       [  0,   0,   0,   0,   0,   0,   0,   0,   0,   0,   0,   0,   0,   0,   1,  71, 222, 254, 142,   0,   0,   0,   0,   0,   0,   0,   0,   0],\n",
       "       [  0,   0,   0,   0,   0,   0,   0,   0,   0,   0,   0,   0,   0,   0,  66, 254, 254, 157,   0,   0,   0,   0,   0,   0,   0,   0,   0,   0],\n",
       "       [  0,   0,   0,   0,   0,   0,   0,   0,   4,  34,  34,  78, 161, 226, 249, 254, 154,   6,   0,   0,   0,   0,   0,   0,   0,   0,   0,   0],\n",
       "       [  0,   0,   0,   0,   0,   0,   0,  96, 184, 254, 254, 254, 254, 254, 249,  93,   5,   0,   0,   0,   0,   0,   0,   0,   0,   0,   0,   0],\n",
       "       [  0,   0,   0,   0,   0,   0,   0,   0,   0,   0,   0,   0,   0,   0,   0,   0,   0,   0,   0,   0,   0,   0,   0,   0,   0,   0,   0,   0],\n",
       "       [  0,   0,   0,   0,   0,   0,   0,   0,   0,   0,   0,   0,   0,   0,   0,   0,   0,   0,   0,   0,   0,   0,   0,   0,   0,   0,   0,   0]], dtype=uint8)"
      ]
     },
     "execution_count": 3,
     "metadata": {},
     "output_type": "execute_result"
    }
   ],
   "source": [
    "# Output example #2917 of the training set.\n",
    "x_train[2917]"
   ]
  },
  {
   "cell_type": "code",
   "execution_count": 4,
   "id": "32beaa21",
   "metadata": {},
   "outputs": [
    {
     "data": {
      "text/plain": [
       "<matplotlib.image.AxesImage at 0x17efa6bf610>"
      ]
     },
     "execution_count": 4,
     "metadata": {},
     "output_type": "execute_result"
    },
    {
     "data": {
      "image/png": "[encoded data removed]",
      "text/plain": [
       "<Figure size 640x480 with 1 Axes>"
      ]
     },
     "metadata": {},
     "output_type": "display_data"
    }
   ],
   "source": [
    "# Use false colors to visualize the array.\n",
    "plt.imshow(x_train[2917])"
   ]
  },
  {
   "cell_type": "code",
   "execution_count": 5,
   "id": "9535d821",
   "metadata": {},
   "outputs": [
    {
     "data": {
      "text/plain": [
       "array([  0,   0,   0,   0,   0,   0,   0,   0,   0,   0,   0,   0,   0,   0,   0,   0,  58, 254, 216,  11,   0,   0,   0,   0,   0,   0,   0,   0], dtype=uint8)"
      ]
     },
     "execution_count": 5,
     "metadata": {},
     "output_type": "execute_result"
    }
   ],
   "source": [
    "# Output row #10 of example #2917.\n",
    "x_train[2917][10]\n"
   ]
  },
  {
   "cell_type": "code",
   "execution_count": 6,
   "id": "cf99a542",
   "metadata": {},
   "outputs": [
    {
     "data": {
      "text/plain": [
       "0"
      ]
     },
     "execution_count": 6,
     "metadata": {},
     "output_type": "execute_result"
    }
   ],
   "source": [
    "# Output pixel #16 of row #10 of example #2900.\n",
    "x_train[2900][10][16]"
   ]
  },
  {
   "cell_type": "code",
   "execution_count": 8,
   "id": "7ba5cf81",
   "metadata": {},
   "outputs": [
    {
     "name": "stdout",
     "output_type": "stream",
     "text": [
      "[0.         0.         0.         0.         0.         0.         0.         0.55294118 1.         0.66666667 0.11372549 0.         0.         0.         0.         0.         0.         0.\n",
      " 0.         0.         0.         0.         0.         0.         0.         0.         0.         0.        ]\n"
     ]
    }
   ],
   "source": [
    "x_train_normalized = x_train/255\n",
    "x_test_normalized = x_test/255\n",
    "print(x_train_normalized[2900][10]) # Output a normalized row"
   ]
  },
  {
   "cell_type": "code",
   "execution_count": 9,
   "id": "b68164eb",
   "metadata": {},
   "outputs": [
    {
     "name": "stdout",
     "output_type": "stream",
     "text": [
      "[0.         0.         0.         0.         0.         0.         0.         0.55294118 1.         0.66666667 0.11372549 0.         0.         0.         0.         0.         0.         0.\n",
      " 0.         0.         0.         0.         0.         0.         0.         0.         0.         0.        ]\n"
     ]
    }
   ],
   "source": [
    "#@title Double-click to see a solution to Task 1. \n",
    "\n",
    "x_train_normalized = x_train / 255.0\n",
    "x_test_normalized = x_test / 255.0\n",
    "print(x_train_normalized[2900][10]) # Output a normalized row"
   ]
  },
  {
   "cell_type": "code",
   "execution_count": 10,
   "id": "b4f3447d",
   "metadata": {},
   "outputs": [
    {
     "name": "stdout",
     "output_type": "stream",
     "text": [
      "Loaded the plot_curve function.\n"
     ]
    }
   ],
   "source": [
    "#@title Define the plotting function\n",
    "def plot_curve(epochs, hist, list_of_metrics):\n",
    "  \"\"\"Plot a curve of one or more classification metrics vs. epoch.\"\"\"  \n",
    "  # list_of_metrics should be one of the names shown in:\n",
    "  # https://www.tensorflow.org/tutorials/structured_data/imbalanced_data#define_the_model_and_metrics  \n",
    "\n",
    "  plt.figure()\n",
    "  plt.xlabel(\"Epoch\")\n",
    "  plt.ylabel(\"Value\")\n",
    "\n",
    "  for m in list_of_metrics:\n",
    "    x = hist[m]\n",
    "    plt.plot(epochs[1:], x[1:], label=m)\n",
    "\n",
    "  plt.legend()\n",
    "\n",
    "print(\"Loaded the plot_curve function.\")"
   ]
  },
  {
   "cell_type": "code",
   "execution_count": 11,
   "id": "5f916bb8",
   "metadata": {},
   "outputs": [],
   "source": [
    "def create_model(my_learning_rate):\n",
    "  \"\"\"Create and compile a deep neural net.\"\"\"\n",
    "  \n",
    "  # All models in this course are sequential.\n",
    "  model = tf.keras.models.Sequential()\n",
    "\n",
    "  # The features are stored in a two-dimensional 28X28 array. \n",
    "  # Flatten that two-dimensional array into a one-dimensional \n",
    "  # 784-element array.\n",
    "  model.add(tf.keras.layers.Flatten(input_shape=(28, 28)))\n",
    "\n",
    "  # Define the first hidden layer.   \n",
    "  model.add(tf.keras.layers.Dense(units=32, activation='relu'))\n",
    "  \n",
    "  # Define a dropout regularization layer. \n",
    "  model.add(tf.keras.layers.Dropout(rate=0.2))\n",
    "\n",
    "  # Define the output layer. The units parameter is set to 10 because\n",
    "  # the model must choose among 10 possible output values (representing\n",
    "  # the digits from 0 to 9, inclusive).\n",
    "  #\n",
    "  # Don't change this layer.\n",
    "  model.add(tf.keras.layers.Dense(units=10, activation='softmax'))     \n",
    "                           \n",
    "  # Construct the layers into a model that TensorFlow can execute.  \n",
    "  # Notice that the loss function for multi-class classification\n",
    "  # is different than the loss function for binary classification.  \n",
    "  model.compile(optimizer=tf.keras.optimizers.Adam(learning_rate=my_learning_rate),\n",
    "                loss=\"sparse_categorical_crossentropy\",\n",
    "                metrics=['accuracy'])\n",
    "  \n",
    "  return model    \n",
    "\n",
    "\n",
    "def train_model(model, train_features, train_label, epochs,\n",
    "                batch_size=None, validation_split=0.1):\n",
    "  \"\"\"Train the model by feeding it data.\"\"\"\n",
    "\n",
    "  history = model.fit(x=train_features, y=train_label, batch_size=batch_size,\n",
    "                      epochs=epochs, shuffle=True, \n",
    "                      validation_split=validation_split)\n",
    " \n",
    "  # To track the progression of training, gather a snapshot\n",
    "  # of the model's metrics at each epoch. \n",
    "  epochs = history.epoch\n",
    "  hist = pd.DataFrame(history.history)\n",
    "\n",
    "  return epochs, hist    "
   ]
  },
  {
   "cell_type": "code",
   "execution_count": 12,
   "id": "0fa03354",
   "metadata": {},
   "outputs": [
    {
     "name": "stdout",
     "output_type": "stream",
     "text": [
      "Epoch 1/50\n",
      "12/12 [==============================] - 1s 50ms/step - loss: 1.6865 - accuracy: 0.4728 - val_loss: 0.9605 - val_accuracy: 0.7662\n",
      "Epoch 2/50\n",
      "12/12 [==============================] - 0s 23ms/step - loss: 0.8836 - accuracy: 0.7349 - val_loss: 0.5373 - val_accuracy: 0.8591\n",
      "Epoch 3/50\n",
      "12/12 [==============================] - 0s 23ms/step - loss: 0.6314 - accuracy: 0.8076 - val_loss: 0.4205 - val_accuracy: 0.8878\n",
      "Epoch 4/50\n",
      "12/12 [==============================] - 0s 24ms/step - loss: 0.5234 - accuracy: 0.8446 - val_loss: 0.3606 - val_accuracy: 0.9037\n",
      "Epoch 5/50\n",
      "12/12 [==============================] - 0s 23ms/step - loss: 0.4643 - accuracy: 0.8624 - val_loss: 0.3278 - val_accuracy: 0.9116\n",
      "Epoch 6/50\n",
      "12/12 [==============================] - 0s 30ms/step - loss: 0.4276 - accuracy: 0.8751 - val_loss: 0.3044 - val_accuracy: 0.9178\n",
      "Epoch 7/50\n",
      "12/12 [==============================] - 0s 22ms/step - loss: 0.4004 - accuracy: 0.8829 - val_loss: 0.2875 - val_accuracy: 0.9208\n",
      "Epoch 8/50\n",
      "12/12 [==============================] - 0s 23ms/step - loss: 0.3815 - accuracy: 0.8891 - val_loss: 0.2746 - val_accuracy: 0.9246\n",
      "Epoch 9/50\n",
      "12/12 [==============================] - 0s 23ms/step - loss: 0.3686 - accuracy: 0.8912 - val_loss: 0.2650 - val_accuracy: 0.9266\n",
      "Epoch 10/50\n",
      "12/12 [==============================] - 0s 22ms/step - loss: 0.3510 - accuracy: 0.8962 - val_loss: 0.2521 - val_accuracy: 0.9295\n",
      "Epoch 11/50\n",
      "12/12 [==============================] - 0s 22ms/step - loss: 0.3407 - accuracy: 0.9006 - val_loss: 0.2447 - val_accuracy: 0.9323\n",
      "Epoch 12/50\n",
      "12/12 [==============================] - 0s 22ms/step - loss: 0.3284 - accuracy: 0.9029 - val_loss: 0.2365 - val_accuracy: 0.9349\n",
      "Epoch 13/50\n",
      "12/12 [==============================] - 0s 22ms/step - loss: 0.3127 - accuracy: 0.9074 - val_loss: 0.2289 - val_accuracy: 0.9358\n",
      "Epoch 14/50\n",
      "12/12 [==============================] - 0s 22ms/step - loss: 0.3074 - accuracy: 0.9086 - val_loss: 0.2234 - val_accuracy: 0.9377\n",
      "Epoch 15/50\n",
      "12/12 [==============================] - 0s 22ms/step - loss: 0.2993 - accuracy: 0.9125 - val_loss: 0.2180 - val_accuracy: 0.9381\n",
      "Epoch 16/50\n",
      "12/12 [==============================] - 0s 23ms/step - loss: 0.2890 - accuracy: 0.9154 - val_loss: 0.2130 - val_accuracy: 0.9407\n",
      "Epoch 17/50\n",
      "12/12 [==============================] - 0s 22ms/step - loss: 0.2810 - accuracy: 0.9165 - val_loss: 0.2089 - val_accuracy: 0.9417\n",
      "Epoch 18/50\n",
      "12/12 [==============================] - 0s 23ms/step - loss: 0.2766 - accuracy: 0.9192 - val_loss: 0.2022 - val_accuracy: 0.9435\n",
      "Epoch 19/50\n",
      "12/12 [==============================] - 0s 22ms/step - loss: 0.2700 - accuracy: 0.9206 - val_loss: 0.1990 - val_accuracy: 0.9440\n",
      "Epoch 20/50\n",
      "12/12 [==============================] - 0s 22ms/step - loss: 0.2648 - accuracy: 0.9216 - val_loss: 0.1956 - val_accuracy: 0.9445\n",
      "Epoch 21/50\n",
      "12/12 [==============================] - 0s 22ms/step - loss: 0.2573 - accuracy: 0.9229 - val_loss: 0.1911 - val_accuracy: 0.9462\n",
      "Epoch 22/50\n",
      "12/12 [==============================] - 0s 23ms/step - loss: 0.2532 - accuracy: 0.9247 - val_loss: 0.1893 - val_accuracy: 0.9463\n",
      "Epoch 23/50\n",
      "12/12 [==============================] - 0s 25ms/step - loss: 0.2489 - accuracy: 0.9259 - val_loss: 0.1861 - val_accuracy: 0.9469\n",
      "Epoch 24/50\n",
      "12/12 [==============================] - 0s 22ms/step - loss: 0.2475 - accuracy: 0.9255 - val_loss: 0.1824 - val_accuracy: 0.9487\n",
      "Epoch 25/50\n",
      "12/12 [==============================] - 0s 22ms/step - loss: 0.2404 - accuracy: 0.9269 - val_loss: 0.1803 - val_accuracy: 0.9498\n",
      "Epoch 26/50\n",
      "12/12 [==============================] - 0s 22ms/step - loss: 0.2362 - accuracy: 0.9293 - val_loss: 0.1762 - val_accuracy: 0.9503\n",
      "Epoch 27/50\n",
      "12/12 [==============================] - 0s 22ms/step - loss: 0.2311 - accuracy: 0.9302 - val_loss: 0.1730 - val_accuracy: 0.9511\n",
      "Epoch 28/50\n",
      "12/12 [==============================] - 0s 22ms/step - loss: 0.2291 - accuracy: 0.9317 - val_loss: 0.1715 - val_accuracy: 0.9513\n",
      "Epoch 29/50\n",
      "12/12 [==============================] - 0s 22ms/step - loss: 0.2261 - accuracy: 0.9326 - val_loss: 0.1695 - val_accuracy: 0.9532\n",
      "Epoch 30/50\n",
      "12/12 [==============================] - 0s 22ms/step - loss: 0.2207 - accuracy: 0.9339 - val_loss: 0.1668 - val_accuracy: 0.9531\n",
      "Epoch 31/50\n",
      "12/12 [==============================] - 0s 23ms/step - loss: 0.2196 - accuracy: 0.9344 - val_loss: 0.1652 - val_accuracy: 0.9544\n",
      "Epoch 32/50\n",
      "12/12 [==============================] - 0s 22ms/step - loss: 0.2168 - accuracy: 0.9336 - val_loss: 0.1633 - val_accuracy: 0.9543\n",
      "Epoch 33/50\n",
      "12/12 [==============================] - 0s 22ms/step - loss: 0.2129 - accuracy: 0.9360 - val_loss: 0.1614 - val_accuracy: 0.9544\n",
      "Epoch 34/50\n",
      "12/12 [==============================] - 0s 22ms/step - loss: 0.2117 - accuracy: 0.9360 - val_loss: 0.1597 - val_accuracy: 0.9551\n",
      "Epoch 35/50\n",
      "12/12 [==============================] - 0s 22ms/step - loss: 0.2066 - accuracy: 0.9381 - val_loss: 0.1583 - val_accuracy: 0.9558\n",
      "Epoch 36/50\n",
      "12/12 [==============================] - 0s 23ms/step - loss: 0.2050 - accuracy: 0.9372 - val_loss: 0.1561 - val_accuracy: 0.9575\n",
      "Epoch 37/50\n",
      "12/12 [==============================] - 0s 22ms/step - loss: 0.2041 - accuracy: 0.9378 - val_loss: 0.1549 - val_accuracy: 0.9566\n",
      "Epoch 38/50\n",
      "12/12 [==============================] - 0s 23ms/step - loss: 0.2020 - accuracy: 0.9390 - val_loss: 0.1541 - val_accuracy: 0.9564\n",
      "Epoch 39/50\n",
      "12/12 [==============================] - 0s 23ms/step - loss: 0.1981 - accuracy: 0.9388 - val_loss: 0.1532 - val_accuracy: 0.9575\n",
      "Epoch 40/50\n",
      "12/12 [==============================] - 0s 23ms/step - loss: 0.1949 - accuracy: 0.9413 - val_loss: 0.1517 - val_accuracy: 0.9574\n",
      "Epoch 41/50\n",
      "12/12 [==============================] - 0s 23ms/step - loss: 0.1940 - accuracy: 0.9404 - val_loss: 0.1503 - val_accuracy: 0.9583\n",
      "Epoch 42/50\n",
      "12/12 [==============================] - 0s 25ms/step - loss: 0.1903 - accuracy: 0.9428 - val_loss: 0.1498 - val_accuracy: 0.9584\n",
      "Epoch 43/50\n",
      "12/12 [==============================] - 0s 28ms/step - loss: 0.1905 - accuracy: 0.9416 - val_loss: 0.1490 - val_accuracy: 0.9580\n",
      "Epoch 44/50\n",
      "12/12 [==============================] - 0s 26ms/step - loss: 0.1879 - accuracy: 0.9424 - val_loss: 0.1478 - val_accuracy: 0.9587\n",
      "Epoch 45/50\n",
      "12/12 [==============================] - 0s 26ms/step - loss: 0.1872 - accuracy: 0.9429 - val_loss: 0.1473 - val_accuracy: 0.9579\n",
      "Epoch 46/50\n",
      "12/12 [==============================] - 0s 23ms/step - loss: 0.1835 - accuracy: 0.9430 - val_loss: 0.1456 - val_accuracy: 0.9592\n",
      "Epoch 47/50\n",
      "12/12 [==============================] - 0s 29ms/step - loss: 0.1867 - accuracy: 0.9427 - val_loss: 0.1455 - val_accuracy: 0.9596\n",
      "Epoch 48/50\n",
      "12/12 [==============================] - 0s 32ms/step - loss: 0.1819 - accuracy: 0.9437 - val_loss: 0.1435 - val_accuracy: 0.9592\n",
      "Epoch 49/50\n",
      "12/12 [==============================] - 0s 28ms/step - loss: 0.1786 - accuracy: 0.9457 - val_loss: 0.1429 - val_accuracy: 0.9593\n",
      "Epoch 50/50\n",
      "12/12 [==============================] - 0s 27ms/step - loss: 0.1770 - accuracy: 0.9457 - val_loss: 0.1422 - val_accuracy: 0.9594\n",
      "\n",
      " Evaluate the new model against the test set:\n",
      "3/3 [==============================] - 0s 9ms/step - loss: 0.1421 - accuracy: 0.9581\n"
     ]
    },
    {
     "data": {
      "text/plain": [
       "[0.14205172657966614, 0.9581000208854675]"
      ]
     },
     "execution_count": 12,
     "metadata": {},
     "output_type": "execute_result"
    },
    {
     "data": {
      "image/png": "[encoded data removed]",
      "text/plain": [
       "<Figure size 640x480 with 1 Axes>"
      ]
     },
     "metadata": {},
     "output_type": "display_data"
    }
   ],
   "source": [
    "# The following variables are the hyperparameters.\n",
    "learning_rate = 0.003\n",
    "epochs = 50\n",
    "batch_size = 4000\n",
    "validation_split = 0.2\n",
    "\n",
    "# Establish the model's topography.\n",
    "my_model = create_model(learning_rate)\n",
    "\n",
    "# Train the model on the normalized training set.\n",
    "epochs, hist = train_model(my_model, x_train_normalized, y_train, \n",
    "                           epochs, batch_size, validation_split)\n",
    "\n",
    "# Plot a graph of the metric vs. epochs.\n",
    "list_of_metrics_to_plot = ['accuracy']\n",
    "plot_curve(epochs, hist, list_of_metrics_to_plot)\n",
    "\n",
    "# Evaluate against the test set.\n",
    "print(\"\\n Evaluate the new model against the test set:\")\n",
    "my_model.evaluate(x=x_test_normalized, y=y_test, batch_size=batch_size)"
   ]
  },
  {
   "cell_type": "code",
   "execution_count": 13,
   "id": "b1c81fa3",
   "metadata": {},
   "outputs": [
    {
     "name": "stdout",
     "output_type": "stream",
     "text": [
      "313/313 [==============================] - 1s 2ms/step\n"
     ]
    },
    {
     "data": {
      "text/plain": [
       "array([7, 2, 1, ..., 4, 5, 6], dtype=int64)"
      ]
     },
     "execution_count": 13,
     "metadata": {},
     "output_type": "execute_result"
    }
   ],
   "source": [
    "y_pred_encoded = my_model.predict(x_test)\n",
    "y_pred = np.argmax(y_pred_encoded, axis=1)\n",
    "y_pred"
   ]
  },
  {
   "cell_type": "code",
   "execution_count": 15,
   "id": "78d19832",
   "metadata": {},
   "outputs": [
    {
     "name": "stdout",
     "output_type": "stream",
     "text": [
      "Accutacy :  0.9546\n",
      "              precision    recall  f1-score   support\n",
      "\n",
      "           0       0.98      0.98      0.98       980\n",
      "           1       0.99      0.98      0.98      1135\n",
      "           2       0.94      0.96      0.95      1032\n",
      "           3       0.92      0.96      0.94      1010\n",
      "           4       0.97      0.94      0.96       982\n",
      "           5       0.98      0.90      0.94       892\n",
      "           6       0.95      0.98      0.96       958\n",
      "           7       0.97      0.94      0.96      1028\n",
      "           8       0.92      0.96      0.94       974\n",
      "           9       0.94      0.95      0.94      1009\n",
      "\n",
      "    accuracy                           0.95     10000\n",
      "   macro avg       0.96      0.95      0.95     10000\n",
      "weighted avg       0.96      0.95      0.95     10000\n",
      "\n",
      "Confusion Matrix:\n",
      "[[ 958    0    4    2    0    0    8    4    3    1]\n",
      " [   0 1109    6    2    0    0    4    0   14    0]\n",
      " [   4    0  989   10    3    0    8    4   13    1]\n",
      " [   0    0   15  972    0    3    1    4    9    6]\n",
      " [   1    0    4    0  927    0   12    1    6   31]\n",
      " [   4    1    1   40    3  804   12    3   15    9]\n",
      " [   7    2    2    1    3    4  935    1    3    0]\n",
      " [   1    7   20    9    3    0    0  966    5   17]\n",
      " [   3    1    7   12    5    5    3    6  931    1]\n",
      " [   4    5    2   13   11    3    1    4   11  955]]\n"
     ]
    }
   ],
   "source": [
    "from sklearn.metrics import accuracy_score, classification_report, confusion_matrix, precision_score\n",
    "#Calculating the Accuracy\n",
    "acc = accuracy_score(y_test, y_pred)\n",
    "print('Accutacy : ', acc)\n",
    "\n",
    "#Classification Report\n",
    "print(classification_report(y_test, y_pred))\n",
    "\n",
    "#Print confusion matrix\n",
    "cm=confusion_matrix(y_test, y_pred)\n",
    "print('Confusion Matrix:')\n",
    "print(cm)\n"
   ]
  },
  {
   "cell_type": "code",
   "execution_count": null,
   "id": "5bf46278",
   "metadata": {},
   "outputs": [],
   "source": []
  }
 ],
 "metadata": {
  "kernelspec": {
   "display_name": "Python 3 (ipykernel)",
   "language": "python",
   "name": "python3"
  },
  "language_info": {
   "codemirror_mode": {
    "name": "ipython",
    "version": 3
   },
   "file_extension": ".py",
   "mimetype": "text/x-python",
   "name": "python",
   "nbconvert_exporter": "python",
   "pygments_lexer": "ipython3",
   "version": "3.10.9"
  }
 },
 "nbformat": 4,
 "nbformat_minor": 5
}
