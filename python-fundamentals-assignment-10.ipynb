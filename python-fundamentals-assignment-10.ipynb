{
 "cells": [
  {
   "cell_type": "markdown",
   "id": "795ba13a",
   "metadata": {},
   "source": [
    "# task-1"
   ]
  },
  {
   "cell_type": "code",
   "execution_count": 15,
   "id": "9e08932e",
   "metadata": {},
   "outputs": [
    {
     "name": "stdout",
     "output_type": "stream",
     "text": [
      "original class: \n",
      "faiz raza\n",
      "80\n",
      "modified class: \n",
      "Gufi\n",
      "30\n"
     ]
    }
   ],
   "source": [
    "class student:\n",
    "    def __init__ (val, student_name, marks):\n",
    "        val.student_name = student_name\n",
    "        val.marks = marks\n",
    "student = student(\"faiz raza\", 80)\n",
    "print(\"original class: \")\n",
    "print(student.student_name)\n",
    "print(student.marks)\n",
    "\n",
    "student.student_name = \"Gufi\"\n",
    "student.marks = 30\n",
    "\n",
    "print(\"modified class: \")\n",
    "print(student.student_name)\n",
    "print(student.marks)"
   ]
  },
  {
   "cell_type": "markdown",
   "id": "5c0f66c8",
   "metadata": {},
   "source": [
    "## task-2"
   ]
  },
  {
   "cell_type": "code",
   "execution_count": 16,
   "id": "10ce94eb",
   "metadata": {},
   "outputs": [
    {
     "name": "stdout",
     "output_type": "stream",
     "text": [
      "Menu:\n",
      "- Pizza: $10\n",
      "- Burger: $8\n",
      "- Salad: $6\n",
      "Table Reservations:\n",
      "- Table 1\n",
      "- Table 2\n",
      "- Table 3\n",
      "Customer Orders:\n",
      "- Table 1: Pizza\n",
      "- Table 2: Burger\n",
      "- Table 3: Salad\n"
     ]
    }
   ],
   "source": [
    "class Restaurant:\n",
    "    def __init__(self):\n",
    "        self.menu_items = []\n",
    "        self.book_table = []\n",
    "        self.customer_orders = []\n",
    "\n",
    "    def add_item_to_menu(self, item_name, price):\n",
    "        self.menu_items.append({\"item_name\": item_name, \"price\": price})\n",
    "\n",
    "    def book_tables(self, table_number):\n",
    "        self.book_table.append(table_number)\n",
    "\n",
    "    def customer_order(self, table_number, item_name):\n",
    "        self.customer_orders.append({\"table_number\": table_number, \"item_name\": item_name})\n",
    "\n",
    "    def print_menu(self):\n",
    "        print(\"Menu:\")\n",
    "        for item in self.menu_items:\n",
    "            print(f\"- {item['item_name']}: ${item['price']}\")\n",
    "\n",
    "    def print_table_reservations(self):\n",
    "        print(\"Table Reservations:\")\n",
    "        for table_number in self.book_table:\n",
    "            print(f\"- Table {table_number}\")\n",
    "\n",
    "    def print_customer_orders(self):\n",
    "        print(\"Customer Orders:\")\n",
    "        for order in self.customer_orders:\n",
    "            print(f\"- Table {order['table_number']}: {order['item_name']}\")\n",
    "\n",
    "\n",
    "# Create an instance of the Restaurant class\n",
    "restaurant = Restaurant()\n",
    "\n",
    "# Add items to the menu\n",
    "restaurant.add_item_to_menu(\"Pizza\", 10)\n",
    "restaurant.add_item_to_menu(\"Burger\", 8)\n",
    "restaurant.add_item_to_menu(\"Salad\", 6)\n",
    "\n",
    "# Make table reservations\n",
    "restaurant.book_tables(1)\n",
    "restaurant.book_tables(2)\n",
    "restaurant.book_tables(3)\n",
    "\n",
    "# Take customer orders\n",
    "restaurant.customer_order(1, \"Pizza\")\n",
    "restaurant.customer_order(2, \"Burger\")\n",
    "restaurant.customer_order(3, \"Salad\")\n",
    "\n",
    "# Print the menu\n",
    "restaurant.print_menu()\n",
    "\n",
    "# Print table reservations\n",
    "restaurant.print_table_reservations()\n",
    "\n",
    "# Print customer orders\n",
    "restaurant.print_customer_orders()\n"
   ]
  },
  {
   "cell_type": "code",
   "execution_count": null,
   "id": "4b798c55",
   "metadata": {},
   "outputs": [],
   "source": []
  }
 ],
 "metadata": {
  "kernelspec": {
   "display_name": "Python 3 (ipykernel)",
   "language": "python",
   "name": "python3"
  },
  "language_info": {
   "codemirror_mode": {
    "name": "ipython",
    "version": 3
   },
   "file_extension": ".py",
   "mimetype": "text/x-python",
   "name": "python",
   "nbconvert_exporter": "python",
   "pygments_lexer": "ipython3",
   "version": "3.10.9"
  }
 },
 "nbformat": 4,
 "nbformat_minor": 5
}
