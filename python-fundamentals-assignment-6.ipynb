{
 "cells": [
  {
   "cell_type": "markdown",
   "id": "27b3cea7",
   "metadata": {},
   "source": [
    "# task-1"
   ]
  },
  {
   "cell_type": "code",
   "execution_count": 1,
   "id": "3c1d4988",
   "metadata": {},
   "outputs": [
    {
     "data": {
      "text/plain": [
       "4"
      ]
     },
     "execution_count": 1,
     "metadata": {},
     "output_type": "execute_result"
    }
   ],
   "source": [
    "x = 2\n",
    "y = 4\n",
    "maxi = max(x,y)\n",
    "maxi"
   ]
  },
  {
   "cell_type": "markdown",
   "id": "8e727ce3",
   "metadata": {},
   "source": [
    "## task-2"
   ]
  },
  {
   "cell_type": "code",
   "execution_count": 2,
   "id": "45e36099",
   "metadata": {},
   "outputs": [
    {
     "data": {
      "text/plain": [
       "6"
      ]
     },
     "execution_count": 2,
     "metadata": {},
     "output_type": "execute_result"
    }
   ],
   "source": [
    "x = 2\n",
    "y = 4\n",
    "z = 6\n",
    "maxii = max(x,y,z)\n",
    "maxii"
   ]
  },
  {
   "cell_type": "markdown",
   "id": "a5e4cac3",
   "metadata": {},
   "source": [
    "### task-3"
   ]
  },
  {
   "cell_type": "code",
   "execution_count": 6,
   "id": "e1f3b5d7",
   "metadata": {},
   "outputs": [
    {
     "name": "stdout",
     "output_type": "stream",
     "text": [
      "enter number: 4\n",
      "positive\n"
     ]
    }
   ],
   "source": [
    "x = int(input(\"enter number: \"))\n",
    "\n",
    "if x < 0:\n",
    "    print(\"negative\")\n",
    "elif x > 0:\n",
    "    print(\"positive\")\n",
    "else:\n",
    "    print(\"zero\")"
   ]
  },
  {
   "cell_type": "markdown",
   "id": "e1d82adc",
   "metadata": {},
   "source": [
    "# task-4"
   ]
  },
  {
   "cell_type": "code",
   "execution_count": 15,
   "id": "b6858b43",
   "metadata": {},
   "outputs": [
    {
     "name": "stdout",
     "output_type": "stream",
     "text": [
      "enter number: 44\n",
      "divisible by 11\n"
     ]
    }
   ],
   "source": [
    "x = int(input(\"enter number: \"))\n",
    "\n",
    "if x % 5 == 0:\n",
    "    print(\"divisibel by 5\")\n",
    "elif x % 11 == 0:\n",
    "    print(\"divisible by 11\")\n",
    "else:\n",
    "    print(\"not\")"
   ]
  },
  {
   "cell_type": "markdown",
   "id": "97517eaa",
   "metadata": {},
   "source": [
    "## task-5"
   ]
  },
  {
   "cell_type": "code",
   "execution_count": 20,
   "id": "0cb0a7be",
   "metadata": {},
   "outputs": [
    {
     "name": "stdout",
     "output_type": "stream",
     "text": [
      "enter number: 6\n",
      "even\n"
     ]
    }
   ],
   "source": [
    "x = int(input(\"enter number: \"))\n",
    "\n",
    "if x != 0:\n",
    "    if x % 2 == 0:\n",
    "        print(\"even\")\n",
    "    else:\n",
    "        print(\"odd\")\n",
    "else:\n",
    "    print(\"error\")"
   ]
  },
  {
   "cell_type": "markdown",
   "id": "719c4b86",
   "metadata": {},
   "source": [
    "### task-6"
   ]
  },
  {
   "cell_type": "code",
   "execution_count": 22,
   "id": "20930fca",
   "metadata": {},
   "outputs": [
    {
     "name": "stdout",
     "output_type": "stream",
     "text": [
      "enter alphabet: a\n",
      "contain vowel\n"
     ]
    }
   ],
   "source": [
    "x = input(\"enter alphabet: \")\n",
    "\n",
    "if x.lower() in \"aeiou\":\n",
    "    print(\"contain vowel\")\n",
    "else:\n",
    "    print(\"not\")"
   ]
  },
  {
   "cell_type": "markdown",
   "id": "d2069da4",
   "metadata": {},
   "source": [
    "# task-7"
   ]
  },
  {
   "cell_type": "code",
   "execution_count": 29,
   "id": "befad6b0",
   "metadata": {},
   "outputs": [
    {
     "name": "stdout",
     "output_type": "stream",
     "text": [
      "enter month day: 31\n",
      "week 5\n"
     ]
    }
   ],
   "source": [
    "x = input(\"enter month day: \")\n",
    "\n",
    "if x in \"1,2,3,4,5,6,7\":\n",
    "    print(\"week 1\")\n",
    "elif x in \"8,9,10,11,12,13,14\":\n",
    "    print(\"week 2\")\n",
    "elif x in \"15,16,17,18,19,20,21\":\n",
    "    print(\"week 3\")\n",
    "elif x in \"22,23,24,25,26,27\":\n",
    "    print(\"week 4\")\n",
    "elif x in \"28,29,30,31\":\n",
    "    print(\"week 5\")\n",
    "else:\n",
    "    print(\"error\")"
   ]
  },
  {
   "cell_type": "markdown",
   "id": "dc9c0023",
   "metadata": {},
   "source": [
    "## task-8"
   ]
  },
  {
   "cell_type": "code",
   "execution_count": 30,
   "id": "039e870d",
   "metadata": {},
   "outputs": [
    {
     "name": "stdout",
     "output_type": "stream",
     "text": [
      "Enter the month number (1-12): 2\n",
      "Enter the year: 2001\n",
      "Number of days in the month: 28\n"
     ]
    }
   ],
   "source": [
    "month = int(input(\"Enter the month number (1-12): \"))\n",
    "\n",
    "if month == 2:\n",
    "    year = int(input(\"Enter the year: \"))\n",
    "    if (year % 4 == 0 and year % 100 != 0) or year % 400 == 0:\n",
    "        days = 29\n",
    "    else:\n",
    "        days = 28\n",
    "elif month in [4, 6, 9, 11]:\n",
    "    days = 30\n",
    "else:\n",
    "    days = 31\n",
    "\n",
    "print(\"Number of days in the month:\", days)\n"
   ]
  },
  {
   "cell_type": "markdown",
   "id": "64b0cee4",
   "metadata": {},
   "source": [
    "### task-9"
   ]
  },
  {
   "cell_type": "code",
   "execution_count": 32,
   "id": "cd096e05",
   "metadata": {},
   "outputs": [
    {
     "name": "stdout",
     "output_type": "stream",
     "text": [
      "Enter the number of the day (1-7): 3\n",
      "Wednesday\n"
     ]
    }
   ],
   "source": [
    "day_number = int(input(\"Enter the number of the day (1-7): \"))\n",
    "\n",
    "if day_number == 1:\n",
    "    day_name = \"Monday\"\n",
    "elif day_number == 2:\n",
    "    day_name = \"Tuesday\"\n",
    "elif day_number == 3:\n",
    "    day_name = \"Wednesday\"\n",
    "elif day_number == 4:\n",
    "    day_name = \"Thursday\"\n",
    "elif day_number == 5:\n",
    "    day_name = \"Friday\"\n",
    "elif day_number == 6:\n",
    "    day_name = \"Saturday\"\n",
    "elif day_number == 7:\n",
    "    day_name = \"Sunday\"\n",
    "else:\n",
    "    day_name = \"Invalid day number\"\n",
    "\n",
    "print(day_name)\n"
   ]
  },
  {
   "cell_type": "markdown",
   "id": "50d0bc53",
   "metadata": {},
   "source": [
    "# task-10"
   ]
  },
  {
   "cell_type": "code",
   "execution_count": 34,
   "id": "ef309fa9",
   "metadata": {},
   "outputs": [
    {
     "name": "stdout",
     "output_type": "stream",
     "text": [
      "Enter Physics marks (out of 100): 10\n",
      "Enter Chemistry marks (out of 100): 10\n",
      "Enter Biology marks (out of 100): 10\n",
      "Enter Mathematics marks (out of 100): 10\n",
      "Enter Computer marks (out of 100): 10\n",
      "Physics - Percentage: 10.0 Grade: F\n",
      "Chemistry - Percentage: 10.0 Grade: F\n",
      "Biology - Percentage: 10.0 Grade: F\n",
      "Mathematics - Percentage: 10.0 Grade: F\n",
      "Computer - Percentage: 10.0 Grade: F\n"
     ]
    }
   ],
   "source": [
    "physics_marks = float(input(\"Enter Physics marks (out of 100): \"))\n",
    "chemistry_marks = float(input(\"Enter Chemistry marks (out of 100): \"))\n",
    "biology_marks = float(input(\"Enter Biology marks (out of 100): \"))\n",
    "mathematics_marks = float(input(\"Enter Mathematics marks (out of 100): \"))\n",
    "computer_marks = float(input(\"Enter Computer marks (out of 100): \"))\n",
    "\n",
    "# Calculate percentage for each subject\n",
    "physics_percentage = (physics_marks / 100) * 100\n",
    "chemistry_percentage = (chemistry_marks / 100) * 100\n",
    "biology_percentage = (biology_marks / 100) * 100\n",
    "mathematics_percentage = (mathematics_marks / 100) * 100\n",
    "computer_percentage = (computer_marks / 100) * 100\n",
    "\n",
    "# Calculate grade for each subject\n",
    "def calculate_grade(percentage):\n",
    "    if percentage >= 90:\n",
    "        return \"A\"\n",
    "    elif percentage >= 80:\n",
    "        return \"B\"\n",
    "    elif percentage >= 70:\n",
    "        return \"C\"\n",
    "    elif percentage >= 60:\n",
    "        return \"D\"\n",
    "    elif percentage >= 40:\n",
    "        return \"E\"\n",
    "    else:\n",
    "        return \"F\"\n",
    "\n",
    "# Calculate grade for each subject\n",
    "physics_grade = calculate_grade(physics_percentage)\n",
    "chemistry_grade = calculate_grade(chemistry_percentage)\n",
    "biology_grade = calculate_grade(biology_percentage)\n",
    "mathematics_grade = calculate_grade(mathematics_percentage)\n",
    "computer_grade = calculate_grade(computer_percentage)\n",
    "\n",
    "# Print percentage and grade for each subject\n",
    "print(\"Physics - Percentage:\", physics_percentage, \"Grade:\", physics_grade)\n",
    "print(\"Chemistry - Percentage:\", chemistry_percentage, \"Grade:\", chemistry_grade)\n",
    "print(\"Biology - Percentage:\", biology_percentage, \"Grade:\", biology_grade)\n",
    "print(\"Mathematics - Percentage:\", mathematics_percentage, \"Grade:\", mathematics_grade)\n",
    "print(\"Computer - Percentage:\", computer_percentage, \"Grade:\", computer_grade)\n"
   ]
  },
  {
   "cell_type": "markdown",
   "id": "13657547",
   "metadata": {},
   "source": [
    "## task-11"
   ]
  },
  {
   "cell_type": "code",
   "execution_count": 38,
   "id": "f829a722",
   "metadata": {},
   "outputs": [
    {
     "name": "stdout",
     "output_type": "stream",
     "text": [
      "Enter the electricity unit charges: 300\n",
      "Total electricity bill: Rs. 354.0\n"
     ]
    }
   ],
   "source": [
    "unit_charges = float(input(\"Enter the electricity unit charges: \"))\n",
    "\n",
    "if unit_charges <= 50:\n",
    "    total_bill = unit_charges * 0.50\n",
    "elif unit_charges <= 150:\n",
    "    total_bill = 50 * 0.50 + (unit_charges - 50) * 0.75\n",
    "elif unit_charges <= 250:\n",
    "    total_bill = 50 * 0.50 + 100 * 0.75 + (unit_charges - 150) * 1.20\n",
    "else:\n",
    "    total_bill = 50 * 0.50 + 100 * 0.75 + 100 * 1.20 + (unit_charges - 250) * 1.50\n",
    "\n",
    "total_bill += total_bill * 0.20  # Adding 20% surcharge\n",
    "\n",
    "print(\"Total electricity bill: Rs.\", total_bill)\n"
   ]
  },
  {
   "cell_type": "markdown",
   "id": "49f2d9a0",
   "metadata": {},
   "source": []
  }
 ],
 "metadata": {
  "kernelspec": {
   "display_name": "Python 3 (ipykernel)",
   "language": "python",
   "name": "python3"
  },
  "language_info": {
   "codemirror_mode": {
    "name": "ipython",
    "version": 3
   },
   "file_extension": ".py",
   "mimetype": "text/x-python",
   "name": "python",
   "nbconvert_exporter": "python",
   "pygments_lexer": "ipython3",
   "version": "3.10.9"
  }
 },
 "nbformat": 4,
 "nbformat_minor": 5
}
